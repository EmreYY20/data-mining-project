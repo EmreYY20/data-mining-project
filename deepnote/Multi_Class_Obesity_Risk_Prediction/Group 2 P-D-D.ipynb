{
  "cells": [
    {
      "cell_type": "markdown",
      "metadata": {
        "formattedRanges": [],
        "cell_id": "369280100de444f5a920ef7294af8523",
        "deepnote_cell_type": "text-cell-p"
      },
      "source": " Group 1 already loaded and split the data , but  out of testing purpose, we are doing it again",
      "block_group": "9d30e9f2bed644aaac0497a9581e6549"
    },
    {
      "cell_type": "markdown",
      "metadata": {
        "formattedRanges": [],
        "cell_id": "d0267faf79524af091f3cab5fb436aaf",
        "deepnote_cell_type": "text-cell-h1"
      },
      "source": "# Test Gower distance",
      "block_group": "d5c3ee5151ea4591afc25285382d5907"
    },
    {
      "cell_type": "markdown",
      "metadata": {
        "formattedRanges": [],
        "cell_id": "392be38823bc4f98861efd3f4f96917d",
        "deepnote_cell_type": "text-cell-h2"
      },
      "source": "## Steps: ",
      "block_group": "88f2c1983133466084ae682d7b1fa910"
    },
    {
      "cell_type": "markdown",
      "metadata": {
        "formattedRanges": [],
        "cell_id": "689f75074cdc418397b38bec62be9e07",
        "deepnote_cell_type": "text-cell-p"
      },
      "source": "1. Loads and splits  real dataset ",
      "block_group": "a521e4a1f2b64fe7be3177c66032a2c5"
    },
    {
      "cell_type": "markdown",
      "metadata": {
        "formattedRanges": [],
        "cell_id": "9ee3d8efa76d403b9dededfa7122e8e1",
        "deepnote_cell_type": "text-cell-p"
      },
      "source": "2.Loads and aligns the synthetic data",
      "block_group": "d04c493ebb7940249ffa68fc52eba488"
    },
    {
      "cell_type": "markdown",
      "metadata": {
        "formattedRanges": [],
        "cell_id": "1681189ef76a48ada0ddb4bca50ad565",
        "deepnote_cell_type": "text-cell-p"
      },
      "source": "3. Computes Gower similarity",
      "block_group": "8d1c512bd960435b8b3155623116c990"
    },
    {
      "cell_type": "markdown",
      "metadata": {
        "formattedRanges": [],
        "cell_id": "bb355927245347cf961c943815ba5711",
        "deepnote_cell_type": "text-cell-p"
      },
      "source": "4. Outputs both:",
      "block_group": "e706ba1e57614840a8077646a6c84e57"
    },
    {
      "cell_type": "markdown",
      "metadata": {
        "formattedRanges": [],
        "cell_id": "af4a4d812a194d44ba785b0f2e4aaa18",
        "deepnote_cell_type": "text-cell-bullet"
      },
      "source": "- The most similar synthetic sample for the first test sample",
      "block_group": "b36874380c0f4c83a49b5b3d08316459"
    },
    {
      "cell_type": "markdown",
      "metadata": {
        "formattedRanges": [],
        "cell_id": "7ab473d4aef44395b38a2f660e1eecc4",
        "deepnote_cell_type": "text-cell-bullet"
      },
      "source": "- The top N (3) similar synthetic samples for each test sample",
      "block_group": "11ea12e03eb549f78e5121ff344199c0"
    },
    {
      "cell_type": "markdown",
      "metadata": {
        "formattedRanges": [],
        "cell_id": "7ca33338ac904bb09a363e16449519b0",
        "deepnote_cell_type": "text-cell-p"
      },
      "source": "",
      "block_group": "76905372fe1d48538a51f92b32f8a843"
    },
    {
      "cell_type": "code",
      "metadata": {
        "source_hash": "f4751e88",
        "execution_start": 1744646848937,
        "execution_millis": 2326,
        "execution_context_id": "296ff0ad-58d1-4cac-9515-73c254630f26",
        "cell_id": "e39dd88af5914c478f1c0c8d149505ab",
        "deepnote_cell_type": "code"
      },
      "source": "!pip install gower==0.1.2",
      "block_group": "16122f3c7eff48f785385ccb3666d6bd",
      "execution_count": 1,
      "outputs": [
        {
          "name": "stdout",
          "text": "Requirement already satisfied: gower==0.1.2 in /root/venv/lib/python3.10/site-packages (0.1.2)\nRequirement already satisfied: scipy in /root/venv/lib/python3.10/site-packages (from gower==0.1.2) (1.9.3)\nRequirement already satisfied: numpy in /root/venv/lib/python3.10/site-packages (from gower==0.1.2) (1.25.2)\n\n\u001b[1m[\u001b[0m\u001b[34;49mnotice\u001b[0m\u001b[1;39;49m]\u001b[0m\u001b[39;49m A new release of pip is available: \u001b[0m\u001b[31;49m23.0.1\u001b[0m\u001b[39;49m -> \u001b[0m\u001b[32;49m25.0.1\u001b[0m\n\u001b[1m[\u001b[0m\u001b[34;49mnotice\u001b[0m\u001b[1;39;49m]\u001b[0m\u001b[39;49m To update, run: \u001b[0m\u001b[32;49mpip install --upgrade pip\u001b[0m\n",
          "output_type": "stream"
        }
      ],
      "outputs_reference": null,
      "content_dependencies": null
    },
    {
      "cell_type": "code",
      "metadata": {
        "source_hash": "1f15490b",
        "execution_start": 1744646851317,
        "execution_millis": 12153,
        "execution_context_id": "296ff0ad-58d1-4cac-9515-73c254630f26",
        "cell_id": "161c670331e04a26acefd2705a582a82",
        "deepnote_cell_type": "code"
      },
      "source": "import pandas as pd\nfrom sklearn.model_selection import train_test_split\nimport gower\nimport numpy as np\n\n# Step 1: Load and copy real data safely\ntry:\n    real_data_new = pd.read_csv(\"real-data.csv\", on_bad_lines='skip').copy()\nexcept Exception as e:\n    print(\"Error loading real-data.csv:\", e)\n    raise\n\n# Step 2: Separate features and target\nX = real_data_new.drop(columns='NObeyesdad').copy()\ny = real_data_new['NObeyesdad'].copy()\n\n# Step 3: Create test, train, val splits \nX_temp, X_test, y_temp, y_test = train_test_split(\n    X, y, test_size=0.20, stratify=y, random_state=42)\n\nX_train, X_val, y_train, y_val = train_test_split(\n    X_temp, y_temp, test_size=0.25, stratify=y_temp, random_state=42)\n\n# Step 4: Load synthetic data safely\ntry:\n    synthetic_data = pd.read_csv(\"synthetic-data.csv\", on_bad_lines='skip').copy()\nexcept Exception as e:\n    print(\"Error loading synthetic-data.csv:\", e)\n    raise\n\n# Step 5: Align synthetic columns\nsynthetic_data = synthetic_data[X_test.columns].copy()\n\n# Step 6: Compute Gower similarity\nsimilarity_matrix = gower.gower_matrix(X_test, synthetic_data)\n\n# Step 7: Apply threshold and show only matches found\nthreshold = 0.73  # Set your desired threshold\n\nfor i in range(len(X_test)):\n    similarities = similarity_matrix[i]\n    matches = np.where(similarities >= threshold)[0]\n\n    if len(matches) > 0:\n        print(f\"\\nTest sample {i} – {len(matches)} synthetic match(es) with similarity ≥ {threshold}:\")\n        #print(synthetic_data.iloc[matches])\n        print(\"Similarity scores:\", similarities[matches])\n",
      "block_group": "d8bdfa805922410fa42175655bfc4ab3",
      "execution_count": 2,
      "outputs": [
        {
          "name": "stdout",
          "text": "\nTest sample 9 – 1 synthetic match(es) with similarity ≥ 0.73:\nSimilarity scores: [0.74529946]\n\nTest sample 19 – 1 synthetic match(es) with similarity ≥ 0.73:\nSimilarity scores: [0.7822733]\n\nTest sample 93 – 8 synthetic match(es) with similarity ≥ 0.73:\nSimilarity scores: [0.7468422  0.730499   0.7422455  0.73679125 0.7482039  0.7450177\n 0.76884997 0.7476264 ]\n\nTest sample 304 – 1 synthetic match(es) with similarity ≥ 0.73:\nSimilarity scores: [0.73046803]\n\nTest sample 367 – 1 synthetic match(es) with similarity ≥ 0.73:\nSimilarity scores: [0.7445419]\n\nTest sample 387 – 1 synthetic match(es) with similarity ≥ 0.73:\nSimilarity scores: [0.7536432]\n",
          "output_type": "stream"
        }
      ],
      "outputs_reference": null,
      "content_dependencies": null
    },
    {
      "cell_type": "code",
      "metadata": {
        "source_hash": "be4985d0",
        "execution_start": 1744646863517,
        "execution_millis": 0,
        "execution_context_id": "296ff0ad-58d1-4cac-9515-73c254630f26",
        "cell_id": "be399ae36ac74946bee5474370f2153f",
        "deepnote_cell_type": "code"
      },
      "source": "\n\n",
      "block_group": "be399ae36ac74946bee5474370f2153f",
      "execution_count": 3,
      "outputs": [],
      "outputs_reference": null,
      "content_dependencies": null
    },
    {
      "cell_type": "code",
      "metadata": {
        "source_hash": "4389f82e",
        "execution_start": 1744646863568,
        "execution_millis": 262,
        "execution_context_id": "296ff0ad-58d1-4cac-9515-73c254630f26",
        "cell_id": "3eca56ad51444e45a9578dcb2ce149a7",
        "deepnote_cell_type": "code"
      },
      "source": "import pandas as pd\nimport gower\n\n\nsynth = pd.read_csv('synth.csv')\noriginal = pd.read_csv('real-data.csv')\n\nsynth = synth.drop(columns=['id'])\nsynth_raw = synth.copy()",
      "block_group": "ed44c46e69f44f8aaca960ded31d72bb",
      "execution_count": 3,
      "outputs": [],
      "outputs_reference": null,
      "content_dependencies": null
    },
    {
      "cell_type": "code",
      "metadata": {
        "source_hash": "dbf27055",
        "execution_start": 1744646863887,
        "execution_millis": 119097,
        "execution_context_id": "296ff0ad-58d1-4cac-9515-73c254630f26",
        "cell_id": "0cd5db5bfb584e7f82a84e58d5223dc7",
        "deepnote_cell_type": "code"
      },
      "source": "top_n = 5\nsummary = []\n\nfor i,row in original.iterrows():\n\n    gower_matrix = gower.gower_matrix(row.to_frame().T, synth)\n\n    top_matches = gower_matrix.argsort()[0][:top_n]\n    \n    for n,j in enumerate(top_matches):\n        \n        match = synth.iloc[j]\n       \n        distance = gower_matrix[0][j]\n\n        summary.append({\n            \"original_id\": i,\n            \"original_row\": row.to_frame(),\n            \"synth_id\": j,\n            \"synth_row\": match.to_frame(),\n            \"distance\": distance\n        })",
      "block_group": "f77eda48421c4b5ebe8ce02d25ec1421",
      "execution_count": 4,
      "outputs": [],
      "outputs_reference": null,
      "content_dependencies": null
    },
    {
      "cell_type": "code",
      "metadata": {
        "source_hash": "e73cb936",
        "execution_start": 1744647308689,
        "execution_millis": 42,
        "execution_context_id": "296ff0ad-58d1-4cac-9515-73c254630f26",
        "cell_id": "febb8575d59145df954ff32e29e4caf7",
        "deepnote_cell_type": "code"
      },
      "source": "summary_df = pd.DataFrame(summary)\n",
      "block_group": "504903c154a94ed0a42e1258ce84204a",
      "execution_count": 8,
      "outputs": [
        {
          "output_type": "execute_result",
          "execution_count": 8,
          "data": {
            "application/vnd.deepnote.dataframe.v3+json": {
              "column_count": 6,
              "row_count": 5,
              "columns": [
                {
                  "name": "original_id",
                  "dtype": "int64",
                  "stats": {
                    "unique_count": 1,
                    "nan_count": 0,
                    "min": "0",
                    "max": "0",
                    "histogram": [
                      {
                        "bin_start": -0.5,
                        "bin_end": -0.4,
                        "count": 0
                      },
                      {
                        "bin_start": -0.4,
                        "bin_end": -0.3,
                        "count": 0
                      },
                      {
                        "bin_start": -0.3,
                        "bin_end": -0.19999999999999996,
                        "count": 0
                      },
                      {
                        "bin_start": -0.19999999999999996,
                        "bin_end": -0.09999999999999998,
                        "count": 0
                      },
                      {
                        "bin_start": -0.09999999999999998,
                        "bin_end": 0,
                        "count": 0
                      },
                      {
                        "bin_start": 0,
                        "bin_end": 0.10000000000000009,
                        "count": 5
                      },
                      {
                        "bin_start": 0.10000000000000009,
                        "bin_end": 0.20000000000000007,
                        "count": 0
                      },
                      {
                        "bin_start": 0.20000000000000007,
                        "bin_end": 0.30000000000000004,
                        "count": 0
                      },
                      {
                        "bin_start": 0.30000000000000004,
                        "bin_end": 0.4,
                        "count": 0
                      },
                      {
                        "bin_start": 0.4,
                        "bin_end": 0.5,
                        "count": 0
                      }
                    ]
                  }
                },
                {
                  "name": "original_row",
                  "dtype": "object",
                  "stats": {
                    "unique_count": 5,
                    "nan_count": 0,
                    "categories": [
                      {
                        "name": "                                                    0\nGender                                         Female\nAge                                              21.0\nHeight                                           1.62\nWeight                                           64.0\nfamily_history_with_overweight                    yes\nFAVC                                               no\nFCVC                                              2.0\nNCP                                               3.0\nCAEC                                        Sometimes\nSMOKE                                              no\nCH2O                                              2.0\nSCC                                                no\nFAF                                               0.0\nTUE                                               1.0\nCALC                                               no\nMTRANS                          Public_Transportation\nNObeyesdad                              Normal_Weight",
                        "count": 5
                      }
                    ]
                  }
                },
                {
                  "name": "rank",
                  "dtype": "int64",
                  "stats": {
                    "unique_count": 5,
                    "nan_count": 0,
                    "min": "1",
                    "max": "5",
                    "histogram": [
                      {
                        "bin_start": 1,
                        "bin_end": 1.4,
                        "count": 1
                      },
                      {
                        "bin_start": 1.4,
                        "bin_end": 1.8,
                        "count": 0
                      },
                      {
                        "bin_start": 1.8,
                        "bin_end": 2.2,
                        "count": 1
                      },
                      {
                        "bin_start": 2.2,
                        "bin_end": 2.6,
                        "count": 0
                      },
                      {
                        "bin_start": 2.6,
                        "bin_end": 3,
                        "count": 0
                      },
                      {
                        "bin_start": 3,
                        "bin_end": 3.4000000000000004,
                        "count": 1
                      },
                      {
                        "bin_start": 3.4000000000000004,
                        "bin_end": 3.8000000000000003,
                        "count": 0
                      },
                      {
                        "bin_start": 3.8000000000000003,
                        "bin_end": 4.2,
                        "count": 1
                      },
                      {
                        "bin_start": 4.2,
                        "bin_end": 4.6,
                        "count": 0
                      },
                      {
                        "bin_start": 4.6,
                        "bin_end": 5,
                        "count": 1
                      }
                    ]
                  }
                },
                {
                  "name": "synth_id",
                  "dtype": "int64",
                  "stats": {
                    "unique_count": 5,
                    "nan_count": 0,
                    "min": "1546",
                    "max": "20186",
                    "histogram": [
                      {
                        "bin_start": 1546,
                        "bin_end": 3410,
                        "count": 1
                      },
                      {
                        "bin_start": 3410,
                        "bin_end": 5274,
                        "count": 0
                      },
                      {
                        "bin_start": 5274,
                        "bin_end": 7138,
                        "count": 0
                      },
                      {
                        "bin_start": 7138,
                        "bin_end": 9002,
                        "count": 0
                      },
                      {
                        "bin_start": 9002,
                        "bin_end": 10866,
                        "count": 0
                      },
                      {
                        "bin_start": 10866,
                        "bin_end": 12730,
                        "count": 0
                      },
                      {
                        "bin_start": 12730,
                        "bin_end": 14594,
                        "count": 1
                      },
                      {
                        "bin_start": 14594,
                        "bin_end": 16458,
                        "count": 1
                      },
                      {
                        "bin_start": 16458,
                        "bin_end": 18322,
                        "count": 1
                      },
                      {
                        "bin_start": 18322,
                        "bin_end": 20186,
                        "count": 1
                      }
                    ]
                  }
                },
                {
                  "name": "synth_row",
                  "dtype": "object",
                  "stats": {
                    "unique_count": 5,
                    "nan_count": 0,
                    "categories": [
                      {
                        "name": "                                                15069\nGender                                         Female\nAge                                              21.0\nHeight                                           1.62\nWeight                                           60.0\nfamily_history_with_overweight                    yes\nFAVC                                              yes\nFCVC                                              2.0\nNCP                                               3.0\nCAEC                                        Sometimes\nSMOKE                                              no\nCH2O                                              2.0\nSCC                                                no\nFAF                                               0.0\nTUE                                               1.0\nCALC                                               no\nMTRANS                          Public_Transportation\nNObeyesdad                              Normal_Weight",
                        "count": 1
                      },
                      {
                        "name": "                                                 1546\nGender                                         Female\nAge                                              21.0\nHeight                                           1.51\nWeight                                           64.0\nfamily_history_with_overweight                    yes\nFAVC                                              yes\nFCVC                                              2.0\nNCP                                               3.0\nCAEC                                        Sometimes\nSMOKE                                              no\nCH2O                                              2.0\nSCC                                                no\nFAF                                               0.0\nTUE                                               1.0\nCALC                                               no\nMTRANS                          Public_Transportation\nNObeyesdad                              Normal_Weight",
                        "count": 1
                      },
                      {
                        "name": "3 others",
                        "count": 3
                      }
                    ]
                  }
                },
                {
                  "name": "distance",
                  "dtype": "float32",
                  "stats": {
                    "unique_count": 2,
                    "nan_count": 0,
                    "min": "0.11764705926179886",
                    "max": "0.1764705926179886",
                    "histogram": [
                      {
                        "bin_start": 0.11764705926179886,
                        "bin_end": 0.12352941185235977,
                        "count": 2
                      },
                      {
                        "bin_start": 0.12352941185235977,
                        "bin_end": 0.12941177189350128,
                        "count": 0
                      },
                      {
                        "bin_start": 0.12941177189350128,
                        "bin_end": 0.1352941244840622,
                        "count": 0
                      },
                      {
                        "bin_start": 0.1352941244840622,
                        "bin_end": 0.1411764770746231,
                        "count": 0
                      },
                      {
                        "bin_start": 0.1411764770746231,
                        "bin_end": 0.14705882966518402,
                        "count": 0
                      },
                      {
                        "bin_start": 0.14705882966518402,
                        "bin_end": 0.15294118225574493,
                        "count": 0
                      },
                      {
                        "bin_start": 0.15294118225574493,
                        "bin_end": 0.15882353484630585,
                        "count": 0
                      },
                      {
                        "bin_start": 0.15882353484630585,
                        "bin_end": 0.16470588743686676,
                        "count": 0
                      },
                      {
                        "bin_start": 0.16470588743686676,
                        "bin_end": 0.17058824002742767,
                        "count": 0
                      },
                      {
                        "bin_start": 0.17058824002742767,
                        "bin_end": 0.1764705926179886,
                        "count": 3
                      }
                    ]
                  }
                },
                {
                  "name": "_deepnote_index_column",
                  "dtype": "int64"
                }
              ],
              "rows": [
                {
                  "original_id": 0,
                  "original_row": "                                                    0\nGender                                         Female\nAge                                              21.0\nHeight                                           1.62\nWeight                                           64.0\nfamily_history_with_overweight                    yes\nFAVC                                               no\nFCVC                                              2.0\nNCP                                               3.0\nCAEC                                        Sometimes\nSMOKE                                              no\nCH2O                                              2.0\nSCC                                                no\nFAF                                               0.0\nTUE                                               1.0\nCALC                                               no\nMTRANS                          Public_Transportation\nNObeyesdad                              Normal_Weight",
                  "rank": 1,
                  "synth_id": 15069,
                  "synth_row": "                                                15069\nGender                                         Female\nAge                                              21.0\nHeight                                           1.62\nWeight                                           60.0\nfamily_history_with_overweight                    yes\nFAVC                                              yes\nFCVC                                              2.0\nNCP                                               3.0\nCAEC                                        Sometimes\nSMOKE                                              no\nCH2O                                              2.0\nSCC                                                no\nFAF                                               0.0\nTUE                                               1.0\nCALC                                               no\nMTRANS                          Public_Transportation\nNObeyesdad                              Normal_Weight",
                  "distance": 0.11764705926179886,
                  "_deepnote_index_column": 0
                },
                {
                  "original_id": 0,
                  "original_row": "                                                    0\nGender                                         Female\nAge                                              21.0\nHeight                                           1.62\nWeight                                           64.0\nfamily_history_with_overweight                    yes\nFAVC                                               no\nFCVC                                              2.0\nNCP                                               3.0\nCAEC                                        Sometimes\nSMOKE                                              no\nCH2O                                              2.0\nSCC                                                no\nFAF                                               0.0\nTUE                                               1.0\nCALC                                               no\nMTRANS                          Public_Transportation\nNObeyesdad                              Normal_Weight",
                  "rank": 2,
                  "synth_id": 1546,
                  "synth_row": "                                                 1546\nGender                                         Female\nAge                                              21.0\nHeight                                           1.51\nWeight                                           64.0\nfamily_history_with_overweight                    yes\nFAVC                                              yes\nFCVC                                              2.0\nNCP                                               3.0\nCAEC                                        Sometimes\nSMOKE                                              no\nCH2O                                              2.0\nSCC                                                no\nFAF                                               0.0\nTUE                                               1.0\nCALC                                               no\nMTRANS                          Public_Transportation\nNObeyesdad                              Normal_Weight",
                  "distance": 0.11764705926179886,
                  "_deepnote_index_column": 1
                },
                {
                  "original_id": 0,
                  "original_row": "                                                    0\nGender                                         Female\nAge                                              21.0\nHeight                                           1.62\nWeight                                           64.0\nfamily_history_with_overweight                    yes\nFAVC                                               no\nFCVC                                              2.0\nNCP                                               3.0\nCAEC                                        Sometimes\nSMOKE                                              no\nCH2O                                              2.0\nSCC                                                no\nFAF                                               0.0\nTUE                                               1.0\nCALC                                               no\nMTRANS                          Public_Transportation\nNObeyesdad                              Normal_Weight",
                  "rank": 3,
                  "synth_id": 20186,
                  "synth_row": "                                                20186\nGender                                         Female\nAge                                              21.0\nHeight                                            1.5\nWeight                                           49.0\nfamily_history_with_overweight                    yes\nFAVC                                               no\nFCVC                                              2.0\nNCP                                               3.0\nCAEC                                        Sometimes\nSMOKE                                              no\nCH2O                                              2.0\nSCC                                                no\nFAF                                               0.0\nTUE                                               0.0\nCALC                                               no\nMTRANS                          Public_Transportation\nNObeyesdad                              Normal_Weight",
                  "distance": 0.1764705926179886,
                  "_deepnote_index_column": 2
                },
                {
                  "original_id": 0,
                  "original_row": "                                                    0\nGender                                         Female\nAge                                              21.0\nHeight                                           1.62\nWeight                                           64.0\nfamily_history_with_overweight                    yes\nFAVC                                               no\nFCVC                                              2.0\nNCP                                               3.0\nCAEC                                        Sometimes\nSMOKE                                              no\nCH2O                                              2.0\nSCC                                                no\nFAF                                               0.0\nTUE                                               1.0\nCALC                                               no\nMTRANS                          Public_Transportation\nNObeyesdad                              Normal_Weight",
                  "rank": 4,
                  "synth_id": 13846,
                  "synth_row": "                                                13846\nGender                                         Female\nAge                                              21.0\nHeight                                           1.67\nWeight                                           64.0\nfamily_history_with_overweight                    yes\nFAVC                                               no\nFCVC                                              2.0\nNCP                                               3.0\nCAEC                                        Sometimes\nSMOKE                                              no\nCH2O                                              2.0\nSCC                                               yes\nFAF                                               1.0\nTUE                                               1.0\nCALC                                               no\nMTRANS                          Public_Transportation\nNObeyesdad                              Normal_Weight",
                  "distance": 0.1764705926179886,
                  "_deepnote_index_column": 3
                },
                {
                  "original_id": 0,
                  "original_row": "                                                    0\nGender                                         Female\nAge                                              21.0\nHeight                                           1.62\nWeight                                           64.0\nfamily_history_with_overweight                    yes\nFAVC                                               no\nFCVC                                              2.0\nNCP                                               3.0\nCAEC                                        Sometimes\nSMOKE                                              no\nCH2O                                              2.0\nSCC                                                no\nFAF                                               0.0\nTUE                                               1.0\nCALC                                               no\nMTRANS                          Public_Transportation\nNObeyesdad                              Normal_Weight",
                  "rank": 5,
                  "synth_id": 18296,
                  "synth_row": "                                                18296\nGender                                         Female\nAge                                              21.0\nHeight                                           1.65\nWeight                                           57.0\nfamily_history_with_overweight                    yes\nFAVC                                              yes\nFCVC                                              2.0\nNCP                                               3.0\nCAEC                                        Sometimes\nSMOKE                                              no\nCH2O                                              2.0\nSCC                                                no\nFAF                                               0.0\nTUE                                               1.0\nCALC                                               no\nMTRANS                          Public_Transportation\nNObeyesdad                              Normal_Weight",
                  "distance": 0.1764705926179886,
                  "_deepnote_index_column": 4
                }
              ],
              "type": "dataframe"
            },
            "text/plain": "   original_id                                       original_row  rank  \\\n0            0                                                ...     1   \n1            0                                                ...     2   \n2            0                                                ...     3   \n3            0                                                ...     4   \n4            0                                                ...     5   \n\n   synth_id                                          synth_row  distance  \n0     15069                                                ...  0.117647  \n1      1546                                                ...  0.117647  \n2     20186                                                ...  0.176471  \n3     13846                                                ...  0.176471  \n4     18296                                                ...  0.176471  ",
            "text/html": "<div>\n<style scoped>\n    .dataframe tbody tr th:only-of-type {\n        vertical-align: middle;\n    }\n\n    .dataframe tbody tr th {\n        vertical-align: top;\n    }\n\n    .dataframe thead th {\n        text-align: right;\n    }\n</style>\n<table border=\"1\" class=\"dataframe\">\n  <thead>\n    <tr style=\"text-align: right;\">\n      <th></th>\n      <th>original_id</th>\n      <th>original_row</th>\n      <th>rank</th>\n      <th>synth_id</th>\n      <th>synth_row</th>\n      <th>distance</th>\n    </tr>\n  </thead>\n  <tbody>\n    <tr>\n      <th>0</th>\n      <td>0</td>\n      <td>...</td>\n      <td>1</td>\n      <td>15069</td>\n      <td>...</td>\n      <td>0.117647</td>\n    </tr>\n    <tr>\n      <th>1</th>\n      <td>0</td>\n      <td>...</td>\n      <td>2</td>\n      <td>1546</td>\n      <td>...</td>\n      <td>0.117647</td>\n    </tr>\n    <tr>\n      <th>2</th>\n      <td>0</td>\n      <td>...</td>\n      <td>3</td>\n      <td>20186</td>\n      <td>...</td>\n      <td>0.176471</td>\n    </tr>\n    <tr>\n      <th>3</th>\n      <td>0</td>\n      <td>...</td>\n      <td>4</td>\n      <td>13846</td>\n      <td>...</td>\n      <td>0.176471</td>\n    </tr>\n    <tr>\n      <th>4</th>\n      <td>0</td>\n      <td>...</td>\n      <td>5</td>\n      <td>18296</td>\n      <td>...</td>\n      <td>0.176471</td>\n    </tr>\n  </tbody>\n</table>\n</div>"
          },
          "metadata": {}
        }
      ],
      "outputs_reference": null,
      "content_dependencies": null
    },
    {
      "cell_type": "code",
      "metadata": {
        "source_hash": "ac158f1a",
        "execution_start": 1744647732146,
        "execution_millis": 11738,
        "execution_context_id": "296ff0ad-58d1-4cac-9515-73c254630f26",
        "deepnote_variable_name": "summary_df",
        "deepnote_visualization_spec": {
          "layer": [
            {
              "layer": [
                {
                  "layer": [
                    {
                      "mark": {
                        "clip": true,
                        "type": "bar",
                        "color": "#2266D3",
                        "tooltip": true
                      },
                      "encoding": {
                        "x": {
                          "sort": null,
                          "type": "quantitative",
                          "field": "distance",
                          "scale": {
                            "type": "linear"
                          },
                          "format": {
                            "type": "default",
                            "decimals": null
                          },
                          "aggregate": "sum",
                          "formatType": "numberFormatFromNumberType"
                        },
                        "y": {
                          "axis": {
                            "format": {
                              "type": "default",
                              "decimals": null
                            },
                            "formatType": "numberFormatFromNumberType"
                          },
                          "type": "quantitative",
                          "field": "original_id",
                          "scale": {
                            "type": "linear"
                          },
                          "format": {
                            "type": "default",
                            "decimals": null
                          },
                          "formatType": "numberFormatFromNumberType"
                        },
                        "color": {
                          "type": "nominal",
                          "datum": "original_id",
                          "scale": {
                            "range": [
                              "#2266D3"
                            ],
                            "domain": [
                              "original_id"
                            ]
                          }
                        }
                      },
                      "transform": []
                    }
                  ]
                }
              ],
              "resolve": {
                "scale": {
                  "color": "independent"
                }
              }
            }
          ],
          "title": "",
          "config": {
            "legend": {
              "disable": false
            }
          },
          "$schema": "https://vega.github.io/schema/vega-lite/v5.json",
          "encoding": {},
          "usermeta": {
            "seriesNames": [
              "original_id"
            ],
            "seriesOrder": [
              0
            ],
            "specSchemaVersion": 2,
            "tooltipDefaultMode": true
          }
        },
        "cell_id": "a73b0c0df2814216b81d2a2d40f40a4f",
        "deepnote_cell_type": "visualization"
      },
      "source": "_dntk.DeepnoteChart(summary_df, \"\"\"{\"layer\":[{\"layer\":[{\"layer\":[{\"mark\":{\"clip\":true,\"type\":\"bar\",\"color\":\"#2266D3\",\"tooltip\":true},\"encoding\":{\"x\":{\"sort\":null,\"type\":\"quantitative\",\"field\":\"distance\",\"scale\":{\"type\":\"linear\"},\"format\":{\"type\":\"default\",\"decimals\":null},\"aggregate\":\"sum\",\"formatType\":\"numberFormatFromNumberType\"},\"y\":{\"axis\":{\"format\":{\"type\":\"default\",\"decimals\":null},\"formatType\":\"numberFormatFromNumberType\"},\"type\":\"quantitative\",\"field\":\"original_id\",\"scale\":{\"type\":\"linear\"},\"format\":{\"type\":\"default\",\"decimals\":null},\"formatType\":\"numberFormatFromNumberType\"},\"color\":{\"type\":\"nominal\",\"datum\":\"original_id\",\"scale\":{\"range\":[\"#2266D3\"],\"domain\":[\"original_id\"]}}},\"transform\":[]}]}],\"resolve\":{\"scale\":{\"color\":\"independent\"}}}],\"title\":\"\",\"config\":{\"legend\":{\"disable\":false}},\"$schema\":\"https://vega.github.io/schema/vega-lite/v5.json\",\"encoding\":{},\"usermeta\":{\"seriesNames\":[\"original_id\"],\"seriesOrder\":[0],\"specSchemaVersion\":2,\"tooltipDefaultMode\":true}}\"\"\")",
      "block_group": "ad9c1e772b9b447481c313992c0a0b1f",
      "execution_count": 15,
      "outputs": [
        {
          "output_type": "error",
          "ename": "OutputSizeExceededError",
          "evalue": "The output cannot be displayed as it exceeds Deepnote's 30MB limit for outputs. The limit is in place to ensure smooth performance.\n\nPlease reduce the amount of data being sent to the output.",
          "traceback": [
            "Reach out to Deepnote support for further assistance."
          ]
        }
      ],
      "outputs_reference": null
    },
    {
      "cell_type": "code",
      "metadata": {
        "cell_id": "9bd508723c3d432bb6fce5274b2937c1",
        "deepnote_cell_type": "code"
      },
      "source": "",
      "block_group": "d81bb873e93642c18a1f875549ff454f",
      "execution_count": null,
      "outputs": [],
      "outputs_reference": null,
      "content_dependencies": null
    },
    {
      "cell_type": "markdown",
      "source": "<a style='text-decoration:none;line-height:16px;display:flex;color:#5B5B62;padding:10px;justify-content:end;' href='https://deepnote.com?utm_source=created-in-deepnote-cell&projectId=a441f35e-4b4c-4c50-b56a-1aea6b800ed8' target=\"_blank\">\n<img alt='Created in deepnote.com' style='display:inline;max-height:16px;margin:0px;margin-right:7.5px;' src='data:image/svg+xml;base64,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' > </img>\nCreated in <span style='font-weight:600;margin-left:4px;'>Deepnote</span></a>",
      "metadata": {
        "created_in_deepnote_cell": true,
        "deepnote_cell_type": "markdown"
      }
    }
  ],
  "nbformat": 4,
  "nbformat_minor": 0,
  "metadata": {
    "deepnote_persisted_session": {
      "createdAt": "2025-04-14T09:01:18.464Z"
    },
    "deepnote_notebook_id": "a89ac32f52554dd2ae363bbdf005e3e0"
  }
}