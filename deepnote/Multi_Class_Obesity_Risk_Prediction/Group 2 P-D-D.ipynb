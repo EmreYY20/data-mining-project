{
  "cells": [
    {
      "cell_type": "markdown",
      "metadata": {
        "formattedRanges": [],
        "cell_id": "369280100de444f5a920ef7294af8523",
        "deepnote_cell_type": "text-cell-p"
      },
      "source": " Group 1 already loaded and split the data , but  out of testing purpose, we are doing it again",
      "block_group": "9d30e9f2bed644aaac0497a9581e6549"
    },
    {
      "cell_type": "markdown",
      "metadata": {
        "formattedRanges": [],
        "cell_id": "d0267faf79524af091f3cab5fb436aaf",
        "deepnote_cell_type": "text-cell-h1"
      },
      "source": "# Test Gower distance",
      "block_group": "d5c3ee5151ea4591afc25285382d5907"
    },
    {
      "cell_type": "markdown",
      "metadata": {
        "formattedRanges": [],
        "cell_id": "392be38823bc4f98861efd3f4f96917d",
        "deepnote_cell_type": "text-cell-h2"
      },
      "source": "## Steps: ",
      "block_group": "88f2c1983133466084ae682d7b1fa910"
    },
    {
      "cell_type": "markdown",
      "metadata": {
        "formattedRanges": [],
        "cell_id": "689f75074cdc418397b38bec62be9e07",
        "deepnote_cell_type": "text-cell-p"
      },
      "source": "1. Loads and splits  real dataset ",
      "block_group": "a521e4a1f2b64fe7be3177c66032a2c5"
    },
    {
      "cell_type": "markdown",
      "metadata": {
        "formattedRanges": [],
        "cell_id": "9ee3d8efa76d403b9dededfa7122e8e1",
        "deepnote_cell_type": "text-cell-p"
      },
      "source": "2.Loads and aligns the synthetic data",
      "block_group": "d04c493ebb7940249ffa68fc52eba488"
    },
    {
      "cell_type": "markdown",
      "metadata": {
        "formattedRanges": [],
        "cell_id": "1681189ef76a48ada0ddb4bca50ad565",
        "deepnote_cell_type": "text-cell-p"
      },
      "source": "3. Computes Gower similarity",
      "block_group": "8d1c512bd960435b8b3155623116c990"
    },
    {
      "cell_type": "markdown",
      "metadata": {
        "formattedRanges": [],
        "cell_id": "bb355927245347cf961c943815ba5711",
        "deepnote_cell_type": "text-cell-p"
      },
      "source": "4. Outputs both:",
      "block_group": "e706ba1e57614840a8077646a6c84e57"
    },
    {
      "cell_type": "markdown",
      "metadata": {
        "formattedRanges": [],
        "cell_id": "af4a4d812a194d44ba785b0f2e4aaa18",
        "deepnote_cell_type": "text-cell-bullet"
      },
      "source": "- The most similar synthetic sample for the first test sample",
      "block_group": "b36874380c0f4c83a49b5b3d08316459"
    },
    {
      "cell_type": "markdown",
      "metadata": {
        "formattedRanges": [],
        "cell_id": "7ab473d4aef44395b38a2f660e1eecc4",
        "deepnote_cell_type": "text-cell-bullet"
      },
      "source": "- The top N (3) similar synthetic samples for each test sample",
      "block_group": "11ea12e03eb549f78e5121ff344199c0"
    },
    {
      "cell_type": "markdown",
      "metadata": {
        "formattedRanges": [],
        "cell_id": "7ca33338ac904bb09a363e16449519b0",
        "deepnote_cell_type": "text-cell-p"
      },
      "source": "",
      "block_group": "76905372fe1d48538a51f92b32f8a843"
    },
    {
      "cell_type": "code",
      "metadata": {
        "source_hash": "f4751e88",
        "execution_start": 1744645113767,
        "execution_millis": 2345,
        "execution_context_id": "296ff0ad-58d1-4cac-9515-73c254630f26",
        "cell_id": "e39dd88af5914c478f1c0c8d149505ab",
        "deepnote_cell_type": "code"
      },
      "source": "!pip install gower==0.1.2",
      "block_group": "16122f3c7eff48f785385ccb3666d6bd",
      "execution_count": 1,
      "outputs": [
        {
          "name": "stdout",
          "text": "Requirement already satisfied: gower==0.1.2 in /root/venv/lib/python3.10/site-packages (0.1.2)\nRequirement already satisfied: numpy in /root/venv/lib/python3.10/site-packages (from gower==0.1.2) (1.25.2)\nRequirement already satisfied: scipy in /root/venv/lib/python3.10/site-packages (from gower==0.1.2) (1.9.3)\n\n\u001b[1m[\u001b[0m\u001b[34;49mnotice\u001b[0m\u001b[1;39;49m]\u001b[0m\u001b[39;49m A new release of pip is available: \u001b[0m\u001b[31;49m23.0.1\u001b[0m\u001b[39;49m -> \u001b[0m\u001b[32;49m25.0.1\u001b[0m\n\u001b[1m[\u001b[0m\u001b[34;49mnotice\u001b[0m\u001b[1;39;49m]\u001b[0m\u001b[39;49m To update, run: \u001b[0m\u001b[32;49mpip install --upgrade pip\u001b[0m\n",
          "output_type": "stream"
        }
      ],
      "outputs_reference": null,
      "content_dependencies": null
    },
    {
      "cell_type": "code",
      "metadata": {
        "source_hash": "e73d258f",
        "execution_start": 1744645116168,
        "execution_millis": 12022,
        "execution_context_id": "296ff0ad-58d1-4cac-9515-73c254630f26",
        "cell_id": "161c670331e04a26acefd2705a582a82",
        "deepnote_cell_type": "code"
      },
      "source": "import pandas as pd\nfrom sklearn.model_selection import train_test_split\nimport gower\nimport numpy as np\n\n# Step 1: Load and copy real data safely\ntry:\n    real_data_new = pd.read_csv(\"real-data.csv\", on_bad_lines='skip').copy()\n    print(\"Loaded real-data.csv successfully (problematic lines skipped if any).\")\nexcept Exception as e:\n    print(\"Error loading real-data.csv:\", e)\n    raise\n\n# Step 2: Separate features and target\nX = real_data_new.drop(columns='NObeyesdad').copy()\ny = real_data_new['NObeyesdad'].copy()\n\n# Step 3: Create test, train, val splits \nX_temp, X_test, y_temp, y_test = train_test_split(\n    X, y, test_size=0.20, stratify=y, random_state=42)\n\nX_train, X_val, y_train, y_val = train_test_split(\n    X_temp, y_temp, test_size=0.25, stratify=y_temp, random_state=42)\n\n# Step 4: Load synthetic data safely\ntry:\n    synthetic_data = pd.read_csv(\"synthetic-data.csv\", on_bad_lines='skip').copy()\n    print(\"Loaded synthetic-data.csv successfully (problematic lines skipped if any).\")\nexcept Exception as e:\n    print(\"Error loading synthetic-data.csv:\", e)\n    raise\n\n# Step 5: Align synthetic columns\nsynthetic_data = synthetic_data[X_test.columns].copy()\n\n# Step 6: Compute Gower similarity\nsimilarity_matrix = gower.gower_matrix(X_test, synthetic_data)\n\n# Step 7: Example — most similar synthetic sample to the first test sample\ntop_match_index = np.argmax(similarity_matrix[0])\nprint(\"Most similar synthetic sample to test sample 0:\")\nprint(synthetic_data.iloc[top_match_index])\n\"\"\"\n# Step 8: Top N most similar synthetic samples for each test sample\ntop_n = 3  # Change to the number of top matches you want\nfor i in range(len(X_test)):\n    top_matches = np.argsort(similarity_matrix[i])[::-1][:top_n]\n    print(f\"\\nTop {top_n} most similar synthetic samples to test sample {i}:\")\n    print(synthetic_data.iloc[top_matches])\n\"\"\"\n",
      "block_group": "d8bdfa805922410fa42175655bfc4ab3",
      "execution_count": 2,
      "outputs": [
        {
          "name": "stdout",
          "text": "Loaded real-data.csv successfully (problematic lines skipped if any).\nLoaded synthetic-data.csv successfully (problematic lines skipped if any).\nMost similar synthetic sample to test sample 0:\nGender                                  Male\nAge                                     45.0\nHeight                                  1.77\nWeight                                  77.0\nfamily_history_with_overweight           yes\nFAVC                                      no\nFCVC                                     2.0\nNCP                                      3.0\nCAEC                              Frequently\nSMOKE                                     no\nCH2O                                     3.0\nSCC                                       no\nFAF                                      0.0\nTUE                                      0.0\nCALC                                      no\nMTRANS                            Automobile\nName: 1711, dtype: object\n",
          "output_type": "stream"
        },
        {
          "output_type": "execute_result",
          "execution_count": 2,
          "data": {
            "text/plain": "'\\n# Step 8: Top N most similar synthetic samples for each test sample\\ntop_n = 3  # Change to the number of top matches you want\\nfor i in range(len(X_test)):\\n    top_matches = np.argsort(similarity_matrix[i])[::-1][:top_n]\\n    print(f\"\\nTop {top_n} most similar synthetic samples to test sample {i}:\")\\n    print(synthetic_data.iloc[top_matches])\\n'"
          },
          "metadata": {}
        }
      ],
      "outputs_reference": null,
      "content_dependencies": null
    },
    {
      "cell_type": "code",
      "metadata": {
        "source_hash": "be4985d0",
        "execution_start": 1744645128237,
        "execution_millis": 0,
        "execution_context_id": "296ff0ad-58d1-4cac-9515-73c254630f26",
        "cell_id": "be399ae36ac74946bee5474370f2153f",
        "deepnote_cell_type": "code"
      },
      "source": "\n\n",
      "block_group": "be399ae36ac74946bee5474370f2153f",
      "execution_count": 3,
      "outputs": [],
      "outputs_reference": null,
      "content_dependencies": null
    },
    {
      "cell_type": "markdown",
      "source": "<a style='text-decoration:none;line-height:16px;display:flex;color:#5B5B62;padding:10px;justify-content:end;' href='https://deepnote.com?utm_source=created-in-deepnote-cell&projectId=a441f35e-4b4c-4c50-b56a-1aea6b800ed8' target=\"_blank\">\n<img alt='Created in deepnote.com' style='display:inline;max-height:16px;margin:0px;margin-right:7.5px;' src='data:image/svg+xml;base64,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' > </img>\nCreated in <span style='font-weight:600;margin-left:4px;'>Deepnote</span></a>",
      "metadata": {
        "created_in_deepnote_cell": true,
        "deepnote_cell_type": "markdown"
      }
    }
  ],
  "nbformat": 4,
  "nbformat_minor": 0,
  "metadata": {
    "deepnote_persisted_session": {
      "createdAt": "2025-04-14T09:01:18.464Z"
    },
    "deepnote_notebook_id": "a89ac32f52554dd2ae363bbdf005e3e0"
  }
}