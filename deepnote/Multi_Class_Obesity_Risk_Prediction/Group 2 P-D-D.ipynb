{
  "cells": [
    {
      "cell_type": "markdown",
      "metadata": {
        "formattedRanges": [],
        "cell_id": "369280100de444f5a920ef7294af8523",
        "deepnote_cell_type": "text-cell-p"
      },
      "source": " Group 1 already loaded and split the data , but  out of testing purpose, we are doing it again",
      "block_group": "9d30e9f2bed644aaac0497a9581e6549"
    },
    {
      "cell_type": "markdown",
      "metadata": {
        "formattedRanges": [],
        "cell_id": "d0267faf79524af091f3cab5fb436aaf",
        "deepnote_cell_type": "text-cell-h1"
      },
      "source": "# Test Gower distance",
      "block_group": "d5c3ee5151ea4591afc25285382d5907"
    },
    {
      "cell_type": "markdown",
      "metadata": {
        "formattedRanges": [],
        "cell_id": "392be38823bc4f98861efd3f4f96917d",
        "deepnote_cell_type": "text-cell-h2"
      },
      "source": "## Steps: ",
      "block_group": "88f2c1983133466084ae682d7b1fa910"
    },
    {
      "cell_type": "markdown",
      "metadata": {
        "formattedRanges": [],
        "cell_id": "689f75074cdc418397b38bec62be9e07",
        "deepnote_cell_type": "text-cell-p"
      },
      "source": "1. Loads and splits  real dataset ",
      "block_group": "a521e4a1f2b64fe7be3177c66032a2c5"
    },
    {
      "cell_type": "markdown",
      "metadata": {
        "formattedRanges": [],
        "cell_id": "9ee3d8efa76d403b9dededfa7122e8e1",
        "deepnote_cell_type": "text-cell-p"
      },
      "source": "2.Loads and aligns the synthetic data",
      "block_group": "d04c493ebb7940249ffa68fc52eba488"
    },
    {
      "cell_type": "markdown",
      "metadata": {
        "formattedRanges": [],
        "cell_id": "1681189ef76a48ada0ddb4bca50ad565",
        "deepnote_cell_type": "text-cell-p"
      },
      "source": "3. Computes Gower similarity",
      "block_group": "8d1c512bd960435b8b3155623116c990"
    },
    {
      "cell_type": "markdown",
      "metadata": {
        "formattedRanges": [],
        "cell_id": "bb355927245347cf961c943815ba5711",
        "deepnote_cell_type": "text-cell-p"
      },
      "source": "4. Outputs both:",
      "block_group": "e706ba1e57614840a8077646a6c84e57"
    },
    {
      "cell_type": "markdown",
      "metadata": {
        "formattedRanges": [],
        "cell_id": "af4a4d812a194d44ba785b0f2e4aaa18",
        "deepnote_cell_type": "text-cell-bullet"
      },
      "source": "- The most similar synthetic sample for the first test sample",
      "block_group": "b36874380c0f4c83a49b5b3d08316459"
    },
    {
      "cell_type": "markdown",
      "metadata": {
        "formattedRanges": [],
        "cell_id": "7ab473d4aef44395b38a2f660e1eecc4",
        "deepnote_cell_type": "text-cell-bullet"
      },
      "source": "- The top N (3) similar synthetic samples for each test sample",
      "block_group": "11ea12e03eb549f78e5121ff344199c0"
    },
    {
      "cell_type": "markdown",
      "metadata": {
        "formattedRanges": [],
        "cell_id": "7ca33338ac904bb09a363e16449519b0",
        "deepnote_cell_type": "text-cell-p"
      },
      "source": "",
      "block_group": "76905372fe1d48538a51f92b32f8a843"
    },
    {
      "cell_type": "code",
      "metadata": {
        "source_hash": "f4751e88",
        "execution_start": 1744656933387,
        "execution_millis": 3049,
        "execution_context_id": "296ff0ad-58d1-4cac-9515-73c254630f26",
        "cell_id": "e39dd88af5914c478f1c0c8d149505ab",
        "deepnote_cell_type": "code"
      },
      "source": "!pip install gower==0.1.2",
      "block_group": "16122f3c7eff48f785385ccb3666d6bd",
      "execution_count": 1,
      "outputs": [
        {
          "name": "stdout",
          "text": "Requirement already satisfied: gower==0.1.2 in /root/venv/lib/python3.10/site-packages (0.1.2)\nRequirement already satisfied: numpy in /root/venv/lib/python3.10/site-packages (from gower==0.1.2) (1.25.2)\nRequirement already satisfied: scipy in /root/venv/lib/python3.10/site-packages (from gower==0.1.2) (1.9.3)\n\n\u001b[1m[\u001b[0m\u001b[34;49mnotice\u001b[0m\u001b[1;39;49m]\u001b[0m\u001b[39;49m A new release of pip is available: \u001b[0m\u001b[31;49m23.0.1\u001b[0m\u001b[39;49m -> \u001b[0m\u001b[32;49m25.0.1\u001b[0m\n\u001b[1m[\u001b[0m\u001b[34;49mnotice\u001b[0m\u001b[1;39;49m]\u001b[0m\u001b[39;49m To update, run: \u001b[0m\u001b[32;49mpip install --upgrade pip\u001b[0m\n",
          "output_type": "stream"
        }
      ],
      "outputs_reference": null,
      "content_dependencies": null
    },
    {
      "cell_type": "code",
      "metadata": {
        "source_hash": "1f15490b",
        "execution_start": 1744656936489,
        "execution_millis": 12238,
        "execution_context_id": "296ff0ad-58d1-4cac-9515-73c254630f26",
        "cell_id": "161c670331e04a26acefd2705a582a82",
        "deepnote_cell_type": "code"
      },
      "source": "import pandas as pd\nfrom sklearn.model_selection import train_test_split\nimport gower\nimport numpy as np\nimport matplotlib.pyplot as plt\nimport seaborn as sns\n\n# Step 1: Load and copy real data safely\ntry:\n    real_data_new = pd.read_csv(\"real-data.csv\", on_bad_lines='skip').copy()\nexcept Exception as e:\n    print(\"Error loading real-data.csv:\", e)\n    raise\n\n# Step 2: Separate features and target\nX = real_data_new.drop(columns='NObeyesdad').copy()\ny = real_data_new['NObeyesdad'].copy()\n\n# Step 3: Create test, train, val splits \nX_temp, X_test, y_temp, y_test = train_test_split(\n    X, y, test_size=0.20, stratify=y, random_state=42)\n\nX_train, X_val, y_train, y_val = train_test_split(\n    X_temp, y_temp, test_size=0.25, stratify=y_temp, random_state=42)\n\n# Step 4: Load synthetic data safely\ntry:\n    synthetic_data = pd.read_csv(\"synthetic-data.csv\", on_bad_lines='skip').copy()\nexcept Exception as e:\n    print(\"Error loading synthetic-data.csv:\", e)\n    raise\n\n# Step 5: Align synthetic columns\nsynthetic_data = synthetic_data[X_test.columns].copy()\n\n# Step 6: Compute Gower similarity\nsimilarity_matrix = gower.gower_matrix(X_test, synthetic_data)\n\n# Step 7: Apply threshold and show only matches found\nthreshold = 0.73  # Set your desired threshold\n\nfor i in range(len(X_test)):\n    similarities = similarity_matrix[i]\n    matches = np.where(similarities >= threshold)[0]\n\n    if len(matches) > 0:\n        print(f\"\\nTest sample {i} – {len(matches)} synthetic match(es) with similarity ≥ {threshold}:\")\n        #print(synthetic_data.iloc[matches])\n        print(\"Similarity scores:\", similarities[matches])\n",
      "block_group": "d8bdfa805922410fa42175655bfc4ab3",
      "execution_count": 2,
      "outputs": [
        {
          "output_type": "error",
          "ename": "KeyboardInterrupt",
          "evalue": "",
          "traceback": [
            "\u001b[0;31m---------------------------------------------------------------------------\u001b[0m",
            "\u001b[0;31mKeyboardInterrupt\u001b[0m                         Traceback (most recent call last)",
            "Cell \u001b[0;32mIn[2], line 35\u001b[0m\n\u001b[1;32m     32\u001b[0m synthetic_data \u001b[38;5;241m=\u001b[39m synthetic_data[X_test\u001b[38;5;241m.\u001b[39mcolumns]\u001b[38;5;241m.\u001b[39mcopy()\n\u001b[1;32m     34\u001b[0m \u001b[38;5;66;03m# Step 6: Compute Gower similarity\u001b[39;00m\n\u001b[0;32m---> 35\u001b[0m similarity_matrix \u001b[38;5;241m=\u001b[39m \u001b[43mgower\u001b[49m\u001b[38;5;241;43m.\u001b[39;49m\u001b[43mgower_matrix\u001b[49m\u001b[43m(\u001b[49m\u001b[43mX_test\u001b[49m\u001b[43m,\u001b[49m\u001b[43m \u001b[49m\u001b[43msynthetic_data\u001b[49m\u001b[43m)\u001b[49m\n\u001b[1;32m     37\u001b[0m \u001b[38;5;66;03m# Step 7: Apply threshold and show only matches found\u001b[39;00m\n\u001b[1;32m     38\u001b[0m threshold \u001b[38;5;241m=\u001b[39m \u001b[38;5;241m0.73\u001b[39m  \u001b[38;5;66;03m# Set your desired threshold\u001b[39;00m\n",
            "File \u001b[0;32m~/venv/lib/python3.10/site-packages/gower/gower_dist.py:89\u001b[0m, in \u001b[0;36mgower_matrix\u001b[0;34m(data_x, data_y, weight, cat_features)\u001b[0m\n\u001b[1;32m     87\u001b[0m     j_start \u001b[38;5;241m=\u001b[39m \u001b[38;5;241m0\u001b[39m\n\u001b[1;32m     88\u001b[0m \u001b[38;5;66;03m# call the main function\u001b[39;00m\n\u001b[0;32m---> 89\u001b[0m res \u001b[38;5;241m=\u001b[39m \u001b[43mgower_get\u001b[49m\u001b[43m(\u001b[49m\u001b[43mX_cat\u001b[49m\u001b[43m[\u001b[49m\u001b[43mi\u001b[49m\u001b[43m,\u001b[49m\u001b[43m:\u001b[49m\u001b[43m]\u001b[49m\u001b[43m,\u001b[49m\u001b[43m \u001b[49m\n\u001b[1;32m     90\u001b[0m \u001b[43m                  \u001b[49m\u001b[43mX_num\u001b[49m\u001b[43m[\u001b[49m\u001b[43mi\u001b[49m\u001b[43m,\u001b[49m\u001b[43m:\u001b[49m\u001b[43m]\u001b[49m\u001b[43m,\u001b[49m\n\u001b[1;32m     91\u001b[0m \u001b[43m                  \u001b[49m\u001b[43mY_cat\u001b[49m\u001b[43m[\u001b[49m\u001b[43mj_start\u001b[49m\u001b[43m:\u001b[49m\u001b[43my_n_rows\u001b[49m\u001b[43m,\u001b[49m\u001b[43m:\u001b[49m\u001b[43m]\u001b[49m\u001b[43m,\u001b[49m\n\u001b[1;32m     92\u001b[0m \u001b[43m                  \u001b[49m\u001b[43mY_num\u001b[49m\u001b[43m[\u001b[49m\u001b[43mj_start\u001b[49m\u001b[43m:\u001b[49m\u001b[43my_n_rows\u001b[49m\u001b[43m,\u001b[49m\u001b[43m:\u001b[49m\u001b[43m]\u001b[49m\u001b[43m,\u001b[49m\n\u001b[1;32m     93\u001b[0m \u001b[43m                  \u001b[49m\u001b[43mweight_cat\u001b[49m\u001b[43m,\u001b[49m\n\u001b[1;32m     94\u001b[0m \u001b[43m                  \u001b[49m\u001b[43mweight_num\u001b[49m\u001b[43m,\u001b[49m\n\u001b[1;32m     95\u001b[0m \u001b[43m                  \u001b[49m\u001b[43mweight_sum\u001b[49m\u001b[43m,\u001b[49m\n\u001b[1;32m     96\u001b[0m \u001b[43m                  \u001b[49m\u001b[43mcat_features\u001b[49m\u001b[43m,\u001b[49m\n\u001b[1;32m     97\u001b[0m \u001b[43m                  \u001b[49m\u001b[43mnum_ranges\u001b[49m\u001b[43m,\u001b[49m\n\u001b[1;32m     98\u001b[0m \u001b[43m                  \u001b[49m\u001b[43mnum_max\u001b[49m\u001b[43m)\u001b[49m \n\u001b[1;32m     99\u001b[0m \u001b[38;5;66;03m#print(res)\u001b[39;00m\n\u001b[1;32m    100\u001b[0m out[i,j_start:]\u001b[38;5;241m=\u001b[39mres\n",
            "File \u001b[0;32m~/venv/lib/python3.10/site-packages/gower/gower_dist.py:112\u001b[0m, in \u001b[0;36mgower_get\u001b[0;34m(xi_cat, xi_num, xj_cat, xj_num, feature_weight_cat, feature_weight_num, feature_weight_sum, categorical_features, ranges_of_numeric, max_of_numeric)\u001b[0m\n\u001b[1;32m    106\u001b[0m \u001b[38;5;28;01mdef\u001b[39;00m\u001b[38;5;250m \u001b[39m\u001b[38;5;21mgower_get\u001b[39m(xi_cat,xi_num,xj_cat,xj_num,feature_weight_cat,\n\u001b[1;32m    107\u001b[0m               feature_weight_num,feature_weight_sum,categorical_features,\n\u001b[1;32m    108\u001b[0m               ranges_of_numeric,max_of_numeric ):\n\u001b[1;32m    109\u001b[0m     \n\u001b[1;32m    110\u001b[0m     \u001b[38;5;66;03m# categorical columns\u001b[39;00m\n\u001b[1;32m    111\u001b[0m     sij_cat \u001b[38;5;241m=\u001b[39m np\u001b[38;5;241m.\u001b[39mwhere(xi_cat \u001b[38;5;241m==\u001b[39m xj_cat,np\u001b[38;5;241m.\u001b[39mzeros_like(xi_cat),np\u001b[38;5;241m.\u001b[39mones_like(xi_cat))\n\u001b[0;32m--> 112\u001b[0m     sum_cat \u001b[38;5;241m=\u001b[39m \u001b[43mnp\u001b[49m\u001b[38;5;241;43m.\u001b[39;49m\u001b[43mmultiply\u001b[49m\u001b[43m(\u001b[49m\u001b[43mfeature_weight_cat\u001b[49m\u001b[43m,\u001b[49m\u001b[43msij_cat\u001b[49m\u001b[43m)\u001b[49m\u001b[38;5;241;43m.\u001b[39;49m\u001b[43msum\u001b[49m\u001b[43m(\u001b[49m\u001b[43maxis\u001b[49m\u001b[38;5;241;43m=\u001b[39;49m\u001b[38;5;241;43m1\u001b[39;49m\u001b[43m)\u001b[49m \n\u001b[1;32m    114\u001b[0m     \u001b[38;5;66;03m# numerical columns\u001b[39;00m\n\u001b[1;32m    115\u001b[0m     abs_delta\u001b[38;5;241m=\u001b[39mnp\u001b[38;5;241m.\u001b[39mabsolute(xi_num\u001b[38;5;241m-\u001b[39mxj_num)\n",
            "File \u001b[0;32m~/venv/lib/python3.10/site-packages/numpy/core/_methods.py:49\u001b[0m, in \u001b[0;36m_sum\u001b[0;34m(a, axis, dtype, out, keepdims, initial, where)\u001b[0m\n\u001b[1;32m     47\u001b[0m \u001b[38;5;28;01mdef\u001b[39;00m\u001b[38;5;250m \u001b[39m\u001b[38;5;21m_sum\u001b[39m(a, axis\u001b[38;5;241m=\u001b[39m\u001b[38;5;28;01mNone\u001b[39;00m, dtype\u001b[38;5;241m=\u001b[39m\u001b[38;5;28;01mNone\u001b[39;00m, out\u001b[38;5;241m=\u001b[39m\u001b[38;5;28;01mNone\u001b[39;00m, keepdims\u001b[38;5;241m=\u001b[39m\u001b[38;5;28;01mFalse\u001b[39;00m,\n\u001b[1;32m     48\u001b[0m          initial\u001b[38;5;241m=\u001b[39m_NoValue, where\u001b[38;5;241m=\u001b[39m\u001b[38;5;28;01mTrue\u001b[39;00m):\n\u001b[0;32m---> 49\u001b[0m     \u001b[38;5;28;01mreturn\u001b[39;00m \u001b[43mumr_sum\u001b[49m\u001b[43m(\u001b[49m\u001b[43ma\u001b[49m\u001b[43m,\u001b[49m\u001b[43m \u001b[49m\u001b[43maxis\u001b[49m\u001b[43m,\u001b[49m\u001b[43m \u001b[49m\u001b[43mdtype\u001b[49m\u001b[43m,\u001b[49m\u001b[43m \u001b[49m\u001b[43mout\u001b[49m\u001b[43m,\u001b[49m\u001b[43m \u001b[49m\u001b[43mkeepdims\u001b[49m\u001b[43m,\u001b[49m\u001b[43m \u001b[49m\u001b[43minitial\u001b[49m\u001b[43m,\u001b[49m\u001b[43m \u001b[49m\u001b[43mwhere\u001b[49m\u001b[43m)\u001b[49m\n",
            "\u001b[0;31mKeyboardInterrupt\u001b[0m: "
          ]
        }
      ],
      "outputs_reference": null,
      "content_dependencies": null
    },
    {
      "cell_type": "code",
      "metadata": {
        "source_hash": "be4985d0",
        "execution_start": 1744649823207,
        "execution_millis": 0,
        "execution_context_id": "296ff0ad-58d1-4cac-9515-73c254630f26",
        "deepnote_to_be_reexecuted": true,
        "cell_id": "be399ae36ac74946bee5474370f2153f",
        "deepnote_cell_type": "code"
      },
      "source": "\n\n",
      "block_group": "be399ae36ac74946bee5474370f2153f",
      "execution_count": 3,
      "outputs": [],
      "outputs_reference": null,
      "content_dependencies": null
    },
    {
      "cell_type": "code",
      "metadata": {
        "source_hash": "4389f82e",
        "execution_start": 1744649985277,
        "execution_millis": 239,
        "execution_context_id": "296ff0ad-58d1-4cac-9515-73c254630f26",
        "deepnote_to_be_reexecuted": true,
        "cell_id": "3eca56ad51444e45a9578dcb2ce149a7",
        "deepnote_cell_type": "code"
      },
      "source": "import pandas as pd\nimport gower\n\n\nsynth = pd.read_csv('synth.csv')\noriginal = pd.read_csv('real-data.csv')\n\nsynth = synth.drop(columns=['id'])\nsynth_raw = synth.copy()",
      "block_group": "ed44c46e69f44f8aaca960ded31d72bb",
      "execution_count": 7,
      "outputs": [],
      "outputs_reference": null,
      "content_dependencies": null
    },
    {
      "cell_type": "code",
      "metadata": {
        "source_hash": "cee6657d",
        "execution_start": 1744650265917,
        "execution_millis": 106,
        "execution_context_id": "296ff0ad-58d1-4cac-9515-73c254630f26",
        "deepnote_to_be_reexecuted": true,
        "cell_id": "3cae6fa0e03e4d988aae07c6ad674d69",
        "deepnote_cell_type": "code"
      },
      "source": "import pandas as pd\nimport gower\n\ntop_n = 5\nsummary = []\n\nfor i, row in original.iterrows():\n    gower_matrix = gower.gower_matrix(row.to_frame().T, synth)\n\n    # Sort by similarity (lower distance = more similar)\n    top_matches = gower_matrix.argsort()[0][:top_n]\n    bot_matches = gower_matrix.argsort()[0][len(gower_matrix) - top_n:]\n\n    for n, j in enumerate(top_matches):\n        match = synth.iloc[j]\n        no_match = synth.iloc[bot_matches[n]]\n        distance = gower_matrix[0][j]\n        distance_bad = gower_matrix[0][bot_matches[n]]\n\n        print(\"=\" * 60)\n        print(f\"🎯 Test Sample (ID {i}):\")\n        print(row.to_frame().T.to_string(index=False))\n        print(\"\\n✅ Closest Synthetic Match:\")\n        print(match.to_frame().T.to_string(index=False))\n        print(f\"\\n📏 Gower Distance: {distance:.4f}\")\n\n        print(\"\\n❌ Distant (No Match) Example:\")\n        print(no_match.to_frame().T.to_string(index=False))\n        \n        print(f\"\\n📏 Gower Distance Bad: {distance_bad:.4f}\")\n        print(\"=\" * 60 + \"\\n\")\n\n        #similarities = similarity_matrix[i]\n        summary.append({\n            \"original_id\": i,\n            \"synth_id\": j,\n            \"distance\": distance,\n            \"original_row\": row.to_dict(),\n            \"synth_row\": match.to_dict()\n        })\n\n    break  # remove this break to run for all rows\n",
      "block_group": "31ca380767f74948a8c775821c8b7335",
      "execution_count": 15,
      "outputs": [
        {
          "name": "stdout",
          "text": "============================================================\n🎯 Test Sample (ID 0):\nGender   Age Height Weight family_history_with_overweight FAVC FCVC  NCP      CAEC SMOKE CH2O SCC  FAF  TUE CALC                MTRANS    NObeyesdad\nFemale  21.0   1.62   64.0                            yes   no  2.0  3.0 Sometimes    no  2.0  no  0.0  1.0   no Public_Transportation Normal_Weight\n\n✅ Closest Synthetic Match:\nGender   Age Height Weight family_history_with_overweight FAVC FCVC  NCP      CAEC SMOKE CH2O SCC  FAF  TUE CALC                MTRANS    NObeyesdad\nFemale  21.0   1.62   60.0                            yes  yes  2.0  3.0 Sometimes    no  2.0  no  0.0  1.0   no Public_Transportation Normal_Weight\n\n📏 Gower Distance: 0.1176\n\n❌ Distant (No Match) Example:\nGender   Age Height Weight family_history_with_overweight FAVC FCVC  NCP      CAEC SMOKE CH2O SCC  FAF  TUE      CALC  MTRANS         NObeyesdad\n  Male  19.0    1.8   85.0                             no  yes  3.0  4.0 Sometimes    no  3.0  no  2.0  0.0 Sometimes Walking Overweight_Level_I\n\n📏 Gower Distance Bad: 0.8235\n============================================================\n\n============================================================\n🎯 Test Sample (ID 0):\nGender   Age Height Weight family_history_with_overweight FAVC FCVC  NCP      CAEC SMOKE CH2O SCC  FAF  TUE CALC                MTRANS    NObeyesdad\nFemale  21.0   1.62   64.0                            yes   no  2.0  3.0 Sometimes    no  2.0  no  0.0  1.0   no Public_Transportation Normal_Weight\n\n✅ Closest Synthetic Match:\nGender   Age Height Weight family_history_with_overweight FAVC FCVC  NCP      CAEC SMOKE CH2O SCC  FAF  TUE CALC                MTRANS    NObeyesdad\nFemale  21.0   1.51   64.0                            yes  yes  2.0  3.0 Sometimes    no  2.0  no  0.0  1.0   no Public_Transportation Normal_Weight\n\n📏 Gower Distance: 0.1176\n\n❌ Distant (No Match) Example:\nGender   Age Height Weight family_history_with_overweight FAVC FCVC  NCP       CAEC SMOKE CH2O SCC  FAF  TUE CALC  MTRANS         NObeyesdad\n  Male  19.0    1.8   85.0                             no  yes  3.0  4.0 Frequently    no  3.0  no  1.0  0.0   no Walking Overweight_Level_I\n\n📏 Gower Distance Bad: 0.8235\n============================================================\n\n============================================================\n🎯 Test Sample (ID 0):\nGender   Age Height Weight family_history_with_overweight FAVC FCVC  NCP      CAEC SMOKE CH2O SCC  FAF  TUE CALC                MTRANS    NObeyesdad\nFemale  21.0   1.62   64.0                            yes   no  2.0  3.0 Sometimes    no  2.0  no  0.0  1.0   no Public_Transportation Normal_Weight\n\n✅ Closest Synthetic Match:\nGender   Age Height Weight family_history_with_overweight FAVC FCVC  NCP      CAEC SMOKE CH2O SCC  FAF  TUE CALC                MTRANS    NObeyesdad\nFemale  21.0    1.5   49.0                            yes   no  2.0  3.0 Sometimes    no  2.0  no  0.0  0.0   no Public_Transportation Normal_Weight\n\n📏 Gower Distance: 0.1765\n\n❌ Distant (No Match) Example:\nGender   Age    Height Weight family_history_with_overweight FAVC FCVC  NCP       CAEC SMOKE CH2O SCC  FAF  TUE      CALC     MTRANS          NObeyesdad\n  Male  18.0  1.845399   60.0                             no  yes  3.0  4.0 Frequently    no  2.0 yes  2.0  0.0 Sometimes Automobile Insufficient_Weight\n\n📏 Gower Distance Bad: 0.8824\n============================================================\n\n============================================================\n🎯 Test Sample (ID 0):\nGender   Age Height Weight family_history_with_overweight FAVC FCVC  NCP      CAEC SMOKE CH2O SCC  FAF  TUE CALC                MTRANS    NObeyesdad\nFemale  21.0   1.62   64.0                            yes   no  2.0  3.0 Sometimes    no  2.0  no  0.0  1.0   no Public_Transportation Normal_Weight\n\n✅ Closest Synthetic Match:\nGender   Age Height Weight family_history_with_overweight FAVC FCVC  NCP      CAEC SMOKE CH2O SCC  FAF  TUE CALC                MTRANS    NObeyesdad\nFemale  21.0   1.67   64.0                            yes   no  2.0  3.0 Sometimes    no  2.0 yes  1.0  1.0   no Public_Transportation Normal_Weight\n\n📏 Gower Distance: 0.1765\n\n❌ Distant (No Match) Example:\nGender   Age Height Weight family_history_with_overweight FAVC FCVC  NCP       CAEC SMOKE CH2O SCC  FAF  TUE      CALC     MTRANS         NObeyesdad\n  Male  30.0   1.83   83.0                            yes  yes  3.0  4.0 Frequently   yes  2.0 yes  2.0  0.0 Sometimes Automobile Overweight_Level_I\n\n📏 Gower Distance Bad: 0.8824\n============================================================\n\n",
          "output_type": "stream"
        },
        {
          "output_type": "error",
          "ename": "IndexError",
          "evalue": "index 4 is out of bounds for axis 0 with size 4",
          "traceback": [
            "\u001b[0;31m---------------------------------------------------------------------------\u001b[0m",
            "\u001b[0;31mIndexError\u001b[0m                                Traceback (most recent call last)",
            "Cell \u001b[0;32mIn[15], line 16\u001b[0m\n\u001b[1;32m     14\u001b[0m \u001b[38;5;28;01mfor\u001b[39;00m n, j \u001b[38;5;129;01min\u001b[39;00m \u001b[38;5;28menumerate\u001b[39m(top_matches):\n\u001b[1;32m     15\u001b[0m     match \u001b[38;5;241m=\u001b[39m synth\u001b[38;5;241m.\u001b[39miloc[j]\n\u001b[0;32m---> 16\u001b[0m     no_match \u001b[38;5;241m=\u001b[39m synth\u001b[38;5;241m.\u001b[39miloc[\u001b[43mbot_matches\u001b[49m\u001b[43m[\u001b[49m\u001b[43mn\u001b[49m\u001b[43m]\u001b[49m]\n\u001b[1;32m     17\u001b[0m     distance \u001b[38;5;241m=\u001b[39m gower_matrix[\u001b[38;5;241m0\u001b[39m][j]\n\u001b[1;32m     18\u001b[0m     distance_bad \u001b[38;5;241m=\u001b[39m gower_matrix[\u001b[38;5;241m0\u001b[39m][bot_matches[n]]\n",
            "\u001b[0;31mIndexError\u001b[0m: index 4 is out of bounds for axis 0 with size 4"
          ]
        }
      ],
      "outputs_reference": null,
      "content_dependencies": null
    },
    {
      "cell_type": "code",
      "metadata": {
        "source_hash": "3933df2d",
        "execution_start": 1744652780077,
        "execution_millis": 2821349,
        "execution_context_id": "296ff0ad-58d1-4cac-9515-73c254630f26",
        "deepnote_to_be_reexecuted": true,
        "cell_id": "0cd5db5bfb584e7f82a84e58d5223dc7",
        "deepnote_cell_type": "code"
      },
      "source": "\ndistance_thresholds = np.arange(0.1, 0.18, 0.02)\nsummary = []\n\n# Test each threshold\nfor threshold in distance_thresholds:\n\n    # List to keep all similar records from synth dataset\n    to_remove = []\n\n    # Find similar records for each original record\n    for i,row in original.iterrows():\n        \n        # Calculate Gower distance\n        gower_matrix = gower.gower_matrix(row.to_frame().T, synth)\n\n        # Get all matches with distance <= threshold\n        matches = gower_matrix.argsort()[0][gower_matrix[0] <= threshold]\n        \n        # Save matches to find how many will be removed\n        for n,j in enumerate(matches):\n            match = synth.iloc[j]\n            to_remove.append(match)\n    summary.append([threshold, len(to_remove)])\n\n",
      "block_group": "f77eda48421c4b5ebe8ce02d25ec1421",
      "execution_count": 35,
      "outputs": [],
      "outputs_reference": null,
      "content_dependencies": null
    },
    {
      "cell_type": "code",
      "metadata": {
        "source_hash": "c42cd44b",
        "execution_start": 1744656914367,
        "execution_millis": 130,
        "execution_context_id": "296ff0ad-58d1-4cac-9515-73c254630f26",
        "deepnote_to_be_reexecuted": true,
        "cell_id": "febb8575d59145df954ff32e29e4caf7",
        "deepnote_cell_type": "code"
      },
      "source": "\n\ndistance_matrix = gower_matrix.copy()\n\ndef plot_dis_mat_plot(distance_matrix):\n    plt.figure(figsize=(8, 6))\n    sns.heatmap(distance_matrix, annot=True, cmap='Blues')\n    plt.title('Gower Distance Matrix')\n    plt.show()\n\ndef plot_summary_scatter(summary):\n    # Unpack the list of [threshold, count] into two separate lists\n    thresholds = [item[0] for item in summary]\n    counts = [item[1] for item in summary]\n\n    # Create scatter plot\n    plt.figure(figsize=(8, 5))\n    plt.hist(counts, bins = len(thresholds))\n    plt.xlabel('Threshold')\n    plt.ylabel('Count to Remove')\n    plt.title('Threshold vs. Count to Remove')\n    plt.grid(True)\n    plt.show()\n\nplot_summary_scatter(summary)\n\n#plot_dis_mat_plot(distance_matrix)\n",
      "block_group": "504903c154a94ed0a42e1258ce84204a",
      "execution_count": 49,
      "outputs": [
        {
          "data": {
            "text/plain": "<Figure size 800x500 with 1 Axes>",
            "image/png": "[encoded data removed]"
          },
          "metadata": {
            "image/png": {
              "width": 711,
              "height": 470
            }
          },
          "output_type": "display_data"
        }
      ],
      "outputs_reference": null,
      "content_dependencies": null
    },
    {
      "cell_type": "code",
      "metadata": {
        "deepnote_to_be_reexecuted": true,
        "cell_id": "ecaf8bd517fe4db2987f4daa2a2aeb65",
        "deepnote_cell_type": "visualization"
      },
      "source": "",
      "block_group": "28a0ce4a5bb64be48e47b755d907e4e2",
      "execution_count": null,
      "outputs": [],
      "outputs_reference": null
    },
    {
      "cell_type": "code",
      "metadata": {
        "deepnote_to_be_reexecuted": true,
        "cell_id": "306fe37a3ccc4058937ab96434fa6b7e",
        "deepnote_cell_type": "visualization"
      },
      "source": "",
      "block_group": "1e148065eb624e8488056fa662c8659c",
      "execution_count": null,
      "outputs": [],
      "outputs_reference": null
    },
    {
      "cell_type": "code",
      "metadata": {
        "source_hash": "b623e53d",
        "execution_start": 1744649823737,
        "execution_millis": 0,
        "execution_context_id": "296ff0ad-58d1-4cac-9515-73c254630f26",
        "deepnote_to_be_reexecuted": true,
        "cell_id": "9bd508723c3d432bb6fce5274b2937c1",
        "deepnote_cell_type": "code"
      },
      "source": "",
      "block_group": "d81bb873e93642c18a1f875549ff454f",
      "execution_count": 6,
      "outputs": [],
      "outputs_reference": null,
      "content_dependencies": null
    },
    {
      "cell_type": "markdown",
      "source": "<a style='text-decoration:none;line-height:16px;display:flex;color:#5B5B62;padding:10px;justify-content:end;' href='https://deepnote.com?utm_source=created-in-deepnote-cell&projectId=a441f35e-4b4c-4c50-b56a-1aea6b800ed8' target=\"_blank\">\n<img alt='Created in deepnote.com' style='display:inline;max-height:16px;margin:0px;margin-right:7.5px;' src='data:image/svg+xml;base64,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' > </img>\nCreated in <span style='font-weight:600;margin-left:4px;'>Deepnote</span></a>",
      "metadata": {
        "created_in_deepnote_cell": true,
        "deepnote_cell_type": "markdown"
      }
    }
  ],
  "nbformat": 4,
  "nbformat_minor": 0,
  "metadata": {
    "deepnote_persisted_session": {
      "createdAt": "2025-04-14T09:01:18.464Z"
    },
    "deepnote_notebook_id": "a89ac32f52554dd2ae363bbdf005e3e0"
  }
}