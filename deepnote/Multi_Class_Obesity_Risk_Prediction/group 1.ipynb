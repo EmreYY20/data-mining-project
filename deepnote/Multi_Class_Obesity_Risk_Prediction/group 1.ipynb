{
  "cells": [
    {
      "cell_type": "markdown",
      "metadata": {
        "cell_id": "996b20385954478b9eb98e93a62a010a",
        "deepnote_cell_type": "markdown"
      },
      "source": "New plan: \n1. EDA of real data\n2. preprocessing\n3. train, val, test with only real data\n4. recall, precision, micro macro avg etc.\n5. hyper param tuning?\n6. identify same syntetic and real data \n7. train,val, test with real and syntetic data\n8. compare results\n9. conclusion",
      "block_group": "524e918ed488463a9af796eb7dc797a7"
    },
    {
      "cell_type": "markdown",
      "metadata": {
        "cell_id": "a62e59fe3f1f48ee98c64ee5b89d0511",
        "deepnote_cell_type": "markdown"
      },
      "source": "---",
      "block_group": "4f1fc5dd9b4e44808b1a85ce40dbaec8"
    },
    {
      "cell_type": "markdown",
      "metadata": {
        "cell_id": "8481e0abde1f4c5f9f2b712ec3c6f182",
        "deepnote_cell_type": "markdown"
      },
      "source": "# Multi-Class Prediction of Obesity Risk\n\nIntro here",
      "block_group": "d2b00baed651402e8f8674e56ca4795f"
    },
    {
      "cell_type": "markdown",
      "metadata": {
        "cell_id": "f7ace67dbe8445bf8921bf3201acf1ef",
        "deepnote_cell_type": "markdown"
      },
      "source": "# Setup",
      "block_group": "7d470350cc4047ab988cea866b1c5e3e"
    },
    {
      "cell_type": "code",
      "metadata": {
        "source_hash": "c921c443",
        "execution_start": 1744281957589,
        "execution_millis": 1,
        "is_output_hidden": false,
        "execution_context_id": "5bbcd1b1-d285-4366-945c-c9d4c627d0f2",
        "deepnote_app_is_output_hidden": true,
        "cell_id": "0a4c610e04414da4998c6eadf514752c",
        "deepnote_cell_type": "code"
      },
      "source": "!pip install ydata-profiling\n!pip install lazypredict",
      "block_group": "afea00dda16f407182b3aed268c7ea9c",
      "execution_count": null,
      "outputs": [
        {
          "name": "stdout",
          "text": "Requirement already satisfied: ydata-profiling in /root/venv/lib/python3.10/site-packages (4.16.1)\nRequirement already satisfied: tqdm<5,>=4.48.2 in /root/venv/lib/python3.10/site-packages (from ydata-profiling) (4.67.1)\nRequirement already satisfied: typeguard<5,>=3 in /root/venv/lib/python3.10/site-packages (from ydata-profiling) (4.4.2)\nRequirement already satisfied: pandas!=1.4.0,<3.0,>1.1 in /root/venv/lib/python3.10/site-packages (from ydata-profiling) (2.1.4)\nRequirement already satisfied: numpy<2.2,>=1.16.0 in /root/venv/lib/python3.10/site-packages (from ydata-profiling) (1.25.2)\nRequirement already satisfied: seaborn<0.14,>=0.10.1 in /root/venv/lib/python3.10/site-packages (from ydata-profiling) (0.13.2)\nRequirement already satisfied: jinja2<3.2,>=2.11.1 in /root/venv/lib/python3.10/site-packages (from ydata-profiling) (3.1.5)\nRequirement already satisfied: pydantic>=2 in /root/venv/lib/python3.10/site-packages (from ydata-profiling) (2.11.3)\nRequirement already satisfied: PyYAML<6.1,>=5.0.0 in /root/venv/lib/python3.10/site-packages (from ydata-profiling) (6.0.2)\nRequirement already satisfied: matplotlib<=3.10,>=3.5 in /root/venv/lib/python3.10/site-packages (from ydata-profiling) (3.6.3)\nRequirement already satisfied: scipy<1.16,>=1.4.1 in /root/venv/lib/python3.10/site-packages (from ydata-profiling) (1.9.3)\nRequirement already satisfied: statsmodels<1,>=0.13.2 in /root/venv/lib/python3.10/site-packages (from ydata-profiling) (0.14.4)\nRequirement already satisfied: multimethod<2,>=1.4 in /root/venv/lib/python3.10/site-packages (from ydata-profiling) (1.12)\nRequirement already satisfied: dacite>=1.8 in /root/venv/lib/python3.10/site-packages (from ydata-profiling) (1.9.2)\nRequirement already satisfied: wordcloud>=1.9.3 in /root/venv/lib/python3.10/site-packages (from ydata-profiling) (1.9.4)\nRequirement already satisfied: requests<3,>=2.24.0 in /root/venv/lib/python3.10/site-packages (from ydata-profiling) (2.32.3)\nRequirement already satisfied: imagehash==4.3.1 in /root/venv/lib/python3.10/site-packages (from ydata-profiling) (4.3.1)\nRequirement already satisfied: numba<=0.61,>=0.56.0 in /root/venv/lib/python3.10/site-packages (from ydata-profiling) (0.61.0)\nRequirement already satisfied: htmlmin==0.1.12 in /root/venv/lib/python3.10/site-packages (from ydata-profiling) (0.1.12)\nRequirement already satisfied: phik<0.13,>=0.11.1 in /root/venv/lib/python3.10/site-packages (from ydata-profiling) (0.12.4)\nRequirement already satisfied: visions[type_image_path]<0.8.2,>=0.7.5 in /root/venv/lib/python3.10/site-packages (from ydata-profiling) (0.8.1)\nRequirement already satisfied: pillow in /root/venv/lib/python3.10/site-packages (from imagehash==4.3.1->ydata-profiling) (11.1.0)\nRequirement already satisfied: PyWavelets in /root/venv/lib/python3.10/site-packages (from imagehash==4.3.1->ydata-profiling) (1.8.0)\nRequirement already satisfied: MarkupSafe>=2.0 in /root/venv/lib/python3.10/site-packages (from jinja2<3.2,>=2.11.1->ydata-profiling) (3.0.2)\nRequirement already satisfied: fonttools>=4.22.0 in /root/venv/lib/python3.10/site-packages (from matplotlib<=3.10,>=3.5->ydata-profiling) (4.56.0)\nRequirement already satisfied: cycler>=0.10 in /root/venv/lib/python3.10/site-packages (from matplotlib<=3.10,>=3.5->ydata-profiling) (0.12.1)\nRequirement already satisfied: kiwisolver>=1.0.1 in /root/venv/lib/python3.10/site-packages (from matplotlib<=3.10,>=3.5->ydata-profiling) (1.4.8)\nRequirement already satisfied: contourpy>=1.0.1 in /root/venv/lib/python3.10/site-packages (from matplotlib<=3.10,>=3.5->ydata-profiling) (1.3.1)\nRequirement already satisfied: packaging>=20.0 in /root/venv/lib/python3.10/site-packages (from matplotlib<=3.10,>=3.5->ydata-profiling) (24.2)\nRequirement already satisfied: python-dateutil>=2.7 in /root/venv/lib/python3.10/site-packages (from matplotlib<=3.10,>=3.5->ydata-profiling) (2.9.0.post0)\nRequirement already satisfied: pyparsing>=2.2.1 in /root/venv/lib/python3.10/site-packages (from matplotlib<=3.10,>=3.5->ydata-profiling) (3.2.1)\nRequirement already satisfied: llvmlite<0.45,>=0.44.0dev0 in /root/venv/lib/python3.10/site-packages (from numba<=0.61,>=0.56.0->ydata-profiling) (0.44.0)\nRequirement already satisfied: pytz>=2020.1 in /root/venv/lib/python3.10/site-packages (from pandas!=1.4.0,<3.0,>1.1->ydata-profiling) (2025.1)\nRequirement already satisfied: tzdata>=2022.1 in /root/venv/lib/python3.10/site-packages (from pandas!=1.4.0,<3.0,>1.1->ydata-profiling) (2025.1)\nRequirement already satisfied: joblib>=0.14.1 in /root/venv/lib/python3.10/site-packages (from phik<0.13,>=0.11.1->ydata-profiling) (1.4.2)\nRequirement already satisfied: typing-extensions>=4.12.2 in /root/venv/lib/python3.10/site-packages (from pydantic>=2->ydata-profiling) (4.12.2)\nRequirement already satisfied: annotated-types>=0.6.0 in /root/venv/lib/python3.10/site-packages (from pydantic>=2->ydata-profiling) (0.7.0)\nRequirement already satisfied: pydantic-core==2.33.1 in /root/venv/lib/python3.10/site-packages (from pydantic>=2->ydata-profiling) (2.33.1)\nRequirement already satisfied: typing-inspection>=0.4.0 in /root/venv/lib/python3.10/site-packages (from pydantic>=2->ydata-profiling) (0.4.0)\nRequirement already satisfied: certifi>=2017.4.17 in /root/venv/lib/python3.10/site-packages (from requests<3,>=2.24.0->ydata-profiling) (2025.1.31)\nRequirement already satisfied: urllib3<3,>=1.21.1 in /root/venv/lib/python3.10/site-packages (from requests<3,>=2.24.0->ydata-profiling) (2.3.0)\nRequirement already satisfied: idna<4,>=2.5 in /root/venv/lib/python3.10/site-packages (from requests<3,>=2.24.0->ydata-profiling) (3.10)\nRequirement already satisfied: charset-normalizer<4,>=2 in /root/venv/lib/python3.10/site-packages (from requests<3,>=2.24.0->ydata-profiling) (3.4.1)\nRequirement already satisfied: patsy>=0.5.6 in /root/venv/lib/python3.10/site-packages (from statsmodels<1,>=0.13.2->ydata-profiling) (1.0.1)\n\u001b[33mWARNING: visions 0.8.1 does not provide the extra 'type_image_path'\u001b[0m\u001b[33m\n\u001b[0mRequirement already satisfied: networkx>=2.4 in /root/venv/lib/python3.10/site-packages (from visions[type_image_path]<0.8.2,>=0.7.5->ydata-profiling) (3.4.2)\nRequirement already satisfied: puremagic in /root/venv/lib/python3.10/site-packages (from visions[type_image_path]<0.8.2,>=0.7.5->ydata-profiling) (1.28)\nRequirement already satisfied: attrs>=19.3.0 in /root/venv/lib/python3.10/site-packages (from visions[type_image_path]<0.8.2,>=0.7.5->ydata-profiling) (25.1.0)\nRequirement already satisfied: six>=1.5 in /root/venv/lib/python3.10/site-packages (from python-dateutil>=2.7->matplotlib<=3.10,>=3.5->ydata-profiling) (1.17.0)\n\n\u001b[1m[\u001b[0m\u001b[34;49mnotice\u001b[0m\u001b[1;39;49m]\u001b[0m\u001b[39;49m A new release of pip is available: \u001b[0m\u001b[31;49m23.0.1\u001b[0m\u001b[39;49m -> \u001b[0m\u001b[32;49m25.0.1\u001b[0m\n\u001b[1m[\u001b[0m\u001b[34;49mnotice\u001b[0m\u001b[1;39;49m]\u001b[0m\u001b[39;49m To update, run: \u001b[0m\u001b[32;49mpip install --upgrade pip\u001b[0m\nCollecting lazypredict\n  Downloading lazypredict-0.2.16-py2.py3-none-any.whl (14 kB)\nRequirement already satisfied: pandas in /root/venv/lib/python3.10/site-packages (from lazypredict) (2.1.4)\nCollecting xgboost\n  Downloading xgboost-3.0.0-py3-none-manylinux_2_28_x86_64.whl (253.9 MB)\n\u001b[2K     \u001b[91m━━━━━━━━━━━━━━━━━━━━━━━━━━━━━━━━━━━━\u001b[0m\u001b[91m╸\u001b[0m \u001b[32m253.9/253.9 MB\u001b[0m \u001b[31m138.7 MB/s\u001b[0m eta \u001b[36m0:00:01\u001b[0m",
          "output_type": "stream"
        }
      ],
      "outputs_reference": null,
      "content_dependencies": null
    },
    {
      "cell_type": "code",
      "metadata": {
        "trusted": true,
        "execution": {
          "iopub.status.busy": "2024-02-05T19:18:59.779661Z",
          "iopub.status.idle": "2024-02-05T19:18:59.792878Z",
          "iopub.execute_input": "2024-02-05T19:18:59.780072Z",
          "shell.execute_reply": "2024-02-05T19:18:59.791739Z",
          "shell.execute_reply.started": "2024-02-05T19:18:59.780039Z"
        },
        "source_hash": "49df1ea6",
        "execution_start": 1744281791812,
        "execution_millis": 15090,
        "execution_context_id": "5bbcd1b1-d285-4366-945c-c9d4c627d0f2",
        "cell_id": "edf0f931e9554535bf8f893ec7b5b4ca",
        "deepnote_cell_type": "code"
      },
      "source": "import pandas as pd\nfrom ydata_profiling import ProfileReport\nimport matplotlib.pyplot as plt\nimport seaborn as sns\nimport numpy as np\n\nfrom sklearn.pipeline import Pipeline\nfrom sklearn.compose import ColumnTransformer\nfrom sklearn.preprocessing import StandardScaler, OneHotEncoder\nfrom sklearn.base import BaseEstimator, TransformerMixin\n\nimport lazypredict\nfrom sklearn.ensemble import AdaBoostClassifier, RandomForestClassifier, GradientBoostingClassifier\nfrom xgboost import XGBClassifier\nfrom catboost import CatBoostClassifier\nfrom sklearn.svm import SVC\nfrom sklearn.ensemble import StackingClassifier\nfrom sklearn.metrics import classification_report, confusion_matrix\nfrom sklearn.model_selection import train_test_split\nfrom sklearn.model_selection import RandomizedSearchCV\nfrom scipy.stats import randint",
      "block_group": "a198ff2cae1f4c2284bab149bb55e424",
      "execution_count": 7,
      "outputs": [
        {
          "name": "stderr",
          "text": "/root/venv/lib/python3.10/site-packages/tqdm/auto.py:21: TqdmWarning: IProgress not found. Please update jupyter and ipywidgets. See https://ipywidgets.readthedocs.io/en/stable/user_install.html\n  from .autonotebook import tqdm as notebook_tqdm\n",
          "output_type": "stream"
        },
        {
          "data": {
            "text/plain": "<IPython.core.display.HTML object>",
            "text/html": "\n            <div>\n                <ins><a href=\"https://ydata.ai/register\">Upgrade to ydata-sdk</a></ins>\n                <p>\n                    Improve your data and profiling with ydata-sdk, featuring data quality scoring, redundancy detection, outlier identification, text validation, and synthetic data generation.\n                </p>\n            </div>\n            "
          },
          "metadata": {},
          "output_type": "display_data"
        },
        {
          "output_type": "error",
          "ename": "ModuleNotFoundError",
          "evalue": "No module named 'lazypredict'",
          "traceback": [
            "\u001b[0;31m---------------------------------------------------------------------------\u001b[0m",
            "\u001b[0;31mModuleNotFoundError\u001b[0m                       Traceback (most recent call last)",
            "Cell \u001b[0;32mIn[7], line 12\u001b[0m\n\u001b[1;32m      9\u001b[0m \u001b[38;5;28;01mfrom\u001b[39;00m\u001b[38;5;250m \u001b[39m\u001b[38;5;21;01msklearn\u001b[39;00m\u001b[38;5;21;01m.\u001b[39;00m\u001b[38;5;21;01mpreprocessing\u001b[39;00m\u001b[38;5;250m \u001b[39m\u001b[38;5;28;01mimport\u001b[39;00m StandardScaler, OneHotEncoder\n\u001b[1;32m     10\u001b[0m \u001b[38;5;28;01mfrom\u001b[39;00m\u001b[38;5;250m \u001b[39m\u001b[38;5;21;01msklearn\u001b[39;00m\u001b[38;5;21;01m.\u001b[39;00m\u001b[38;5;21;01mbase\u001b[39;00m\u001b[38;5;250m \u001b[39m\u001b[38;5;28;01mimport\u001b[39;00m BaseEstimator, TransformerMixin\n\u001b[0;32m---> 12\u001b[0m \u001b[38;5;28;01mimport\u001b[39;00m\u001b[38;5;250m \u001b[39m\u001b[38;5;21;01mlazypredict\u001b[39;00m\n\u001b[1;32m     13\u001b[0m \u001b[38;5;28;01mfrom\u001b[39;00m\u001b[38;5;250m \u001b[39m\u001b[38;5;21;01msklearn\u001b[39;00m\u001b[38;5;21;01m.\u001b[39;00m\u001b[38;5;21;01mensemble\u001b[39;00m\u001b[38;5;250m \u001b[39m\u001b[38;5;28;01mimport\u001b[39;00m AdaBoostClassifier, RandomForestClassifier, GradientBoostingClassifier\n\u001b[1;32m     14\u001b[0m \u001b[38;5;28;01mfrom\u001b[39;00m\u001b[38;5;250m \u001b[39m\u001b[38;5;21;01mxgboost\u001b[39;00m\u001b[38;5;250m \u001b[39m\u001b[38;5;28;01mimport\u001b[39;00m XGBClassifier\n",
            "\u001b[0;31mModuleNotFoundError\u001b[0m: No module named 'lazypredict'"
          ]
        }
      ],
      "outputs_reference": null,
      "content_dependencies": null
    },
    {
      "cell_type": "code",
      "metadata": {
        "trusted": true,
        "execution": {
          "iopub.status.busy": "2024-02-05T14:04:57.043107Z",
          "iopub.status.idle": "2024-02-05T14:04:57.243984Z",
          "iopub.execute_input": "2024-02-05T14:04:57.043724Z",
          "shell.execute_reply": "2024-02-05T14:04:57.242406Z",
          "shell.execute_reply.started": "2024-02-05T14:04:57.043691Z"
        },
        "cell_id": "6e67384e7eab48cf9f9a11771e957276",
        "deepnote_cell_type": "code"
      },
      "source": "train = pd.read_csv(\"/kaggle/input/playground-series-s4e2/train.csv\") \ntest = pd.read_csv('/kaggle/input/playground-series-s4e2/test.csv')",
      "block_group": "3f7e2c4f60eb445c9ade23b73d51071c",
      "execution_count": null,
      "outputs": [],
      "outputs_reference": null,
      "content_dependencies": null
    },
    {
      "cell_type": "markdown",
      "metadata": {
        "cell_id": "99c84f88361847bd9db77dd8de7acf0b",
        "deepnote_cell_type": "markdown"
      },
      "source": "# Understanding the Data",
      "block_group": "de4a07dab8064296b6d6c0a26b2d2261"
    },
    {
      "cell_type": "markdown",
      "metadata": {
        "formattedRanges": [],
        "cell_id": "7add02f6fda6473d95f8a4aeb617915c",
        "deepnote_cell_type": "text-cell-h2"
      },
      "source": "## Data Description",
      "block_group": "3225b43a449f473fbc26adeefd455344"
    },
    {
      "cell_type": "markdown",
      "metadata": {
        "formattedRanges": [],
        "cell_id": "1b1f53b909634d56b8c97624c7d0994a",
        "deepnote_cell_type": "text-cell-p"
      },
      "source": "There are some signs that one has risk to develop obesity. We want to understand by what this risk is influenced. Further we will predict the obesity risk based on the given properties ",
      "block_group": "9252fc0b913449229677bde3dbe7e0f1"
    },
    {
      "cell_type": "markdown",
      "metadata": {
        "formattedRanges": [],
        "cell_id": "5a55e95ef7ce47c8bb9d98e71d63e9bb",
        "deepnote_cell_type": "text-cell-p"
      },
      "source": "The risk class are:\r\n* Underweight Less than 18.5\r\n* Normal 18.5 to 24.9\r\n* Overweight 25.0 to 29.9\r\n* Obesity I 30.0 to 34.9\r\n* Obesity II 35.0 to 39.9\r\n* Obesity III Higher than 40",
      "block_group": "edf7f2b872a84f87b4f85a2d96cca576"
    },
    {
      "cell_type": "markdown",
      "metadata": {
        "formattedRanges": [],
        "cell_id": "d1ef6a6886d9495b9810ca03f21f0bca",
        "deepnote_cell_type": "text-cell-p"
      },
      "source": "Features:",
      "block_group": "404faf149d4c46ecb313ba886b4bb7ce"
    },
    {
      "cell_type": "markdown",
      "metadata": {
        "formattedRanges": [],
        "cell_id": "1347e08ff7804f45a7c25411b540958a",
        "deepnote_cell_type": "text-cell-p"
      },
      "source": "The attributes related with eating habits are: \r\n* Frequent consumption of high caloric food (FAVC)\r\n* Frequency of consumption of vegetables (FCVC)\r\n* Number of main meals (NCP)\r\n* Consumption of food between meals (CAEC)\r\n* Consumption of water daily (CH20)\r\n* Consumption of alcohol (CALC)",
      "block_group": "691bc9cc68a44c50a69cb7d1b14426fe"
    },
    {
      "cell_type": "markdown",
      "metadata": {
        "formattedRanges": [],
        "cell_id": "5b481963a9714365a2d364ddb3a8f4e7",
        "deepnote_cell_type": "text-cell-p"
      },
      "source": "The attributes related with the physical condition are: \r\n* Calories consumption monitoring (SCC)\r\n* Physical activity frequency (FAF)\r\n* Time using technology devices (TUE)\r\n* Transportation used (MTRANS)",
      "block_group": "784e400727014e55a8af5ffad8a1e63f"
    },
    {
      "cell_type": "markdown",
      "metadata": {
        "formattedRanges": [],
        "cell_id": "d0c164f3befe4e90b37399f0bd77d7b5",
        "deepnote_cell_type": "text-cell-h2"
      },
      "source": "## EDA",
      "block_group": "be771febddca491caf1e9fe8ffcbf0cf"
    },
    {
      "cell_type": "code",
      "metadata": {
        "trusted": true,
        "execution": {
          "iopub.status.busy": "2024-02-03T17:11:01.803369Z",
          "iopub.status.idle": "2024-02-03T17:11:01.843518Z",
          "iopub.execute_input": "2024-02-03T17:11:01.803982Z",
          "shell.execute_reply": "2024-02-03T17:11:01.842587Z",
          "shell.execute_reply.started": "2024-02-03T17:11:01.803949Z"
        },
        "cell_id": "0e856da7c6d44a0eaca1d84aa792fdb0",
        "deepnote_cell_type": "code"
      },
      "source": "profile_train = ProfileReport(train, title=\"Profiling Report - Train data\")\nprofile_test = ProfileReport(test, title=\"Profiling Report - Test data\")",
      "block_group": "ff7a6e9a82b04155a0b81b8e03cbfaf4",
      "execution_count": null,
      "outputs": [],
      "outputs_reference": null,
      "content_dependencies": null
    },
    {
      "cell_type": "code",
      "metadata": {
        "trusted": true,
        "execution": {
          "iopub.status.busy": "2024-02-03T17:11:01.846096Z",
          "iopub.status.idle": "2024-02-03T17:11:43.977363Z",
          "iopub.execute_input": "2024-02-03T17:11:01.846488Z",
          "shell.execute_reply": "2024-02-03T17:11:43.976431Z",
          "shell.execute_reply.started": "2024-02-03T17:11:01.84645Z"
        },
        "cell_id": "f9aa8e6e4a474748a0a60f1a9ccdea5b",
        "deepnote_cell_type": "code"
      },
      "source": "profile_train",
      "block_group": "f6aa01b447f748dea4e71a68cb496bd1",
      "execution_count": null,
      "outputs": [],
      "outputs_reference": null,
      "content_dependencies": null
    },
    {
      "cell_type": "code",
      "metadata": {
        "trusted": true,
        "execution": {
          "iopub.status.busy": "2024-02-03T17:11:43.979021Z",
          "iopub.execute_input": "2024-02-03T17:11:43.979394Z"
        },
        "cell_id": "e9a8eb9a22d9477a93b53cba7f40eb4e",
        "deepnote_cell_type": "code"
      },
      "source": "profile_test",
      "block_group": "912119b861a243298ca250c22dc283b0",
      "execution_count": null,
      "outputs": [],
      "outputs_reference": null,
      "content_dependencies": null
    },
    {
      "cell_type": "code",
      "metadata": {
        "trusted": true,
        "execution": {
          "iopub.status.busy": "2024-02-05T14:05:00.93956Z",
          "iopub.status.idle": "2024-02-05T14:05:01.445519Z",
          "iopub.execute_input": "2024-02-05T14:05:00.939942Z",
          "shell.execute_reply": "2024-02-05T14:05:01.444018Z",
          "shell.execute_reply.started": "2024-02-05T14:05:00.939912Z"
        },
        "cell_id": "ad8e21df360440058ceb668817730e07",
        "deepnote_cell_type": "code"
      },
      "source": "# Manually specify the desired order of the NObeyesdad categories\nordered_categories = ['Insufficient_Weight', 'Normal_Weight', 'Overweight_Level_I', 'Overweight_Level_II', 'Obesity_Type_I', 'Obesity_Type_II', 'Obesity_Type_III']\n\n# Plotting with manually specified category order\nplt.figure(figsize=(12, 8))\nsns.boxplot(x='NObeyesdad', y='Weight', data=train, order=ordered_categories, color='lightgrey')\nplt.title('Weight vs NObeyesdad Categories')\nplt.ylabel('Weight (kg)')\nplt.xticks(rotation=45)\nplt.show()",
      "block_group": "4e7f534656d04fcf97869d76e5debb21",
      "execution_count": null,
      "outputs": [],
      "outputs_reference": null,
      "content_dependencies": null
    },
    {
      "cell_type": "code",
      "metadata": {
        "trusted": true,
        "execution": {
          "iopub.status.busy": "2024-02-05T14:05:01.541932Z",
          "iopub.status.idle": "2024-02-05T14:05:02.174425Z",
          "iopub.execute_input": "2024-02-05T14:05:01.543958Z",
          "shell.execute_reply": "2024-02-05T14:05:02.173193Z",
          "shell.execute_reply.started": "2024-02-05T14:05:01.5439Z"
        },
        "cell_id": "3c09372d20634c3f8c55078264e71272",
        "deepnote_cell_type": "code"
      },
      "source": "# Plotting with manually specified category order and setting the color to light grey\nplt.figure(figsize=(12, 8))\nsns.boxplot(x='NObeyesdad', y='Age', data=train, order=ordered_categories, color='lightgrey')\nplt.title('Age vs NObeyesdad Categories')\nplt.ylabel('Age')\nplt.xticks(rotation=45)  # Rotating the x-axis labels for better readability\nplt.show()",
      "block_group": "b4094416d5844dd7840d3f87ab1b1703",
      "execution_count": null,
      "outputs": [],
      "outputs_reference": null,
      "content_dependencies": null
    },
    {
      "cell_type": "code",
      "metadata": {
        "trusted": true,
        "execution": {
          "iopub.status.busy": "2024-02-05T14:05:04.322728Z",
          "iopub.status.idle": "2024-02-05T14:05:04.724328Z",
          "iopub.execute_input": "2024-02-05T14:05:04.323279Z",
          "shell.execute_reply": "2024-02-05T14:05:04.72331Z",
          "shell.execute_reply.started": "2024-02-05T14:05:04.323235Z"
        },
        "cell_id": "f3b6ffc51e414fdda5b05dd8d51da7db",
        "deepnote_cell_type": "code"
      },
      "source": "# Plotting with manually specified category order\nplt.figure(figsize=(12, 8))\nsns.boxplot(x='NObeyesdad', y='Height', data=train, order=ordered_categories, color='lightgrey')\nplt.title('Height vs NObeyesdad Categories')\nplt.ylabel('Height')\nplt.xticks(rotation=45)\nplt.show()",
      "block_group": "4bafd3dafd3247e0981082481f86a65e",
      "execution_count": null,
      "outputs": [],
      "outputs_reference": null,
      "content_dependencies": null
    },
    {
      "cell_type": "code",
      "metadata": {
        "trusted": true,
        "execution": {
          "iopub.status.busy": "2024-02-05T14:05:04.822543Z",
          "iopub.status.idle": "2024-02-05T14:05:05.290138Z",
          "iopub.execute_input": "2024-02-05T14:05:04.823508Z",
          "shell.execute_reply": "2024-02-05T14:05:05.289117Z",
          "shell.execute_reply.started": "2024-02-05T14:05:04.823458Z"
        },
        "cell_id": "adebaa714f024e29915e4891d5a6c238",
        "deepnote_cell_type": "code"
      },
      "source": "# Filter the DataFrame to include only rows where FCVC has values 1, 2, or 3\nfiltered_data = train[train['FCVC'].isin([1, 2, 3])]\n\n# Create a DataFrame with counts of 'FCVC' for each 'NObeyesdad' category\ncounts_df_fcvc_stacked = filtered_data.groupby(['NObeyesdad', 'FCVC']).size().unstack(fill_value=0)\n\n# Reorder the DataFrame according to the manually specified order of the NObeyesdad categories\ncounts_df_fcvc_stacked = counts_df_fcvc_stacked.reindex(ordered_categories)\n\n# Plotting a stacked bar plot for FCVC\nplt.figure(figsize=(12, 8))\ncounts_df_fcvc_stacked.plot(kind='bar', stacked=True, colormap='Blues')\nplt.title('Stacked Distribution of FCVC within NObeyesdad Categories')\nplt.ylabel('Counts of FCVC Levels')\nplt.xticks(rotation=45) \nplt.legend(title='FCVC Level', bbox_to_anchor=(1.05, 1), loc='upper left')\nplt.tight_layout()\nplt.show()",
      "block_group": "ec3e4eea23fe4f63a11bd7a09eae0ebc",
      "execution_count": null,
      "outputs": [],
      "outputs_reference": null,
      "content_dependencies": null
    },
    {
      "cell_type": "code",
      "metadata": {
        "trusted": true,
        "execution": {
          "iopub.status.busy": "2024-02-05T14:05:06.915957Z",
          "iopub.status.idle": "2024-02-05T14:05:07.327732Z",
          "iopub.execute_input": "2024-02-05T14:05:06.917182Z",
          "shell.execute_reply": "2024-02-05T14:05:07.326364Z",
          "shell.execute_reply.started": "2024-02-05T14:05:06.917133Z"
        },
        "cell_id": "bf8d4d7ffdbd4ce8b26edd69d74b04b7",
        "deepnote_cell_type": "code"
      },
      "source": "# Filter the DataFrame to include only rows where NCP has values 1, 2, 3 or 4\nfiltered_data_ncp = train[train['NCP'].isin([1, 2, 3, 4])]\n\n# Create a DataFrame with counts of 'FCVC' for each 'NObeyesdad' category\ncounts_df_ncp_stacked = filtered_data_ncp.groupby(['NObeyesdad', 'NCP']).size().unstack(fill_value=0)\n\n# Reorder the DataFrame according to the manually specified order of the NObeyesdad categories\ncounts_df_ncp_stacked = counts_df_ncp_stacked.reindex(ordered_categories)\n\n# Plotting a stacked bar plot for NCP\nplt.figure(figsize=(12, 8))\ncounts_df_ncp_stacked.plot(kind='bar', stacked=True, colormap='Blues')\nplt.title('Stacked Distribution of NCP within NObeyesdad Categories')\nplt.ylabel('Counts of NCP Levels')\nplt.xticks(rotation=45)\nplt.legend(title='NCP Level', bbox_to_anchor=(1.05, 1), loc='upper left')\nplt.tight_layout()\nplt.show()",
      "block_group": "b0e81af02f3548fdbefe1a669708227d",
      "execution_count": null,
      "outputs": [],
      "outputs_reference": null,
      "content_dependencies": null
    },
    {
      "cell_type": "code",
      "metadata": {
        "trusted": true,
        "execution": {
          "iopub.status.busy": "2024-02-05T14:05:07.329759Z",
          "iopub.status.idle": "2024-02-05T14:05:07.699591Z",
          "iopub.execute_input": "2024-02-05T14:05:07.330113Z",
          "shell.execute_reply": "2024-02-05T14:05:07.698671Z",
          "shell.execute_reply.started": "2024-02-05T14:05:07.330084Z"
        },
        "cell_id": "353b968cb7c04a0995978fd87285b8f7",
        "deepnote_cell_type": "code"
      },
      "source": "# Filter the DataFrame to include only rows where CH2O has values 1, 2, or 3\nfiltered_data_ch2O = train[train['CH2O'].isin([1, 2, 3])]\n\n# Create a DataFrame with counts of 'CH2O' for each 'NObeyesdad' category\ncounts_df_ch2O_stacked = filtered_data_ch2O.groupby(['NObeyesdad', 'CH2O']).size().unstack(fill_value=0)\n\n# Reorder the DataFrame according to the manually specified order of the NObeyesdad categories\ncounts_df_ch2O_stacked = counts_df_ch2O_stacked.reindex(ordered_categories)\n\n# Plotting a stacked bar plot for CH2O\nplt.figure(figsize=(12, 8))\ncounts_df_ch2O_stacked.plot(kind='bar', stacked=True, colormap='Blues')\nplt.title('Stacked Distribution of H2O within NObeyesdad Categories')\nplt.ylabel('Counts of H2O Levels')\nplt.xticks(rotation=45)\nplt.legend(title='H2O Level', bbox_to_anchor=(1.05, 1), loc='upper left')\nplt.tight_layout()\nplt.show()",
      "block_group": "47c16b3b897c41a692d553758b243ab3",
      "execution_count": null,
      "outputs": [],
      "outputs_reference": null,
      "content_dependencies": null
    },
    {
      "cell_type": "code",
      "metadata": {
        "trusted": true,
        "execution": {
          "iopub.status.busy": "2024-02-05T14:05:07.700932Z",
          "iopub.status.idle": "2024-02-05T14:05:08.09357Z",
          "iopub.execute_input": "2024-02-05T14:05:07.702095Z",
          "shell.execute_reply": "2024-02-05T14:05:08.092193Z",
          "shell.execute_reply.started": "2024-02-05T14:05:07.702061Z"
        },
        "cell_id": "685353c3f8214caa8071d1bc5abd5476",
        "deepnote_cell_type": "code"
      },
      "source": "# Filter the DataFrame to include only rows where FAF has values 0, 1, 2, or 3\nfiltered_data_faf = train[train['FAF'].isin([0, 1, 2, 3])]\n\n# Create a DataFrame with counts of 'FAF' for each 'NObeyesdad' category\ncounts_df_faf_stacked = filtered_data_faf.groupby(['NObeyesdad', 'FAF']).size().unstack(fill_value=0)\n\n# Reorder the DataFrame according to the manually specified order of the NObeyesdad categories\ncounts_df_faf_stacked = counts_df_faf_stacked.reindex(ordered_categories)\n\n# Plotting a stacked bar plot for FAF\nplt.figure(figsize=(12, 8))\ncounts_df_faf_stacked.plot(kind='bar', stacked=True, colormap='Blues')\nplt.title('Stacked Distribution of FAF within NObeyesdad Categories')\nplt.ylabel('Counts of FAF Levels')\nplt.xticks(rotation=45)\nplt.legend(title='FAF Level', bbox_to_anchor=(1.05, 1), loc='upper left')\nplt.tight_layout()\nplt.show()",
      "block_group": "316a3f55e1874703b236e310e1e2786b",
      "execution_count": null,
      "outputs": [],
      "outputs_reference": null,
      "content_dependencies": null
    },
    {
      "cell_type": "markdown",
      "metadata": {
        "cell_id": "7e09b0bafc9342d5990ca799ddfd0ec2",
        "deepnote_cell_type": "markdown"
      },
      "source": "**Oberservations:**\n* The weight definitely influences the risk for obesity, which is expected \n* It seems that age does not influence the risk for obesity, as the distribution in each target class is almost equal\n* It seems that height does not influence the risk for obesity, as the distribution in each target class is almost equal but people with Obesity Type II have a higher mean height than all\n* People with Obesity Type III with less than three meals are rare \n* The phyisical activity frequency of people with Obesity Type II and III quite low compared to other",
      "block_group": "0d6208f5eedf485cbb4d366d9b4ba522"
    },
    {
      "cell_type": "markdown",
      "metadata": {
        "cell_id": "00300ba6c80744a592d337923836bd5f",
        "deepnote_cell_type": "markdown"
      },
      "source": "# Preprocessing",
      "block_group": "53e760b47e914598b5867c2a3e0edbc1"
    },
    {
      "cell_type": "markdown",
      "metadata": {
        "cell_id": "f959eb1372f04aff9715c679e80ff668",
        "deepnote_cell_type": "markdown"
      },
      "source": "* drop id column \n* normalize age, weight and age\n* transform boolean to binary\n* transform categorical variables\n* handle class imbalance\n* add BMI column",
      "block_group": "5b2457d41ecc4e6f812974fc1dd1dd35"
    },
    {
      "cell_type": "code",
      "metadata": {
        "trusted": true,
        "execution": {
          "iopub.status.busy": "2024-02-05T14:06:49.296645Z",
          "iopub.status.idle": "2024-02-05T14:06:49.306129Z",
          "iopub.execute_input": "2024-02-05T14:06:49.297082Z",
          "shell.execute_reply": "2024-02-05T14:06:49.304826Z",
          "shell.execute_reply.started": "2024-02-05T14:06:49.297045Z"
        },
        "cell_id": "98edb97bcf3047f2a0808ead2554460f",
        "deepnote_cell_type": "code"
      },
      "source": "# Add Body-Mass-Index Column\ntrain['BMI'] = train['Weight'] / (train['Height'] ** 2)\ntest['BMI'] = test['Weight'] / (test['Height'] ** 2)",
      "block_group": "0e6acabbd7f449e98499a5757c3541bc",
      "execution_count": null,
      "outputs": [],
      "outputs_reference": null,
      "content_dependencies": null
    },
    {
      "cell_type": "code",
      "metadata": {
        "trusted": true,
        "execution": {
          "iopub.status.busy": "2024-02-05T14:12:10.128797Z",
          "iopub.status.idle": "2024-02-05T14:12:10.139353Z",
          "iopub.execute_input": "2024-02-05T14:12:10.129193Z",
          "shell.execute_reply": "2024-02-05T14:12:10.137994Z",
          "shell.execute_reply.started": "2024-02-05T14:12:10.129162Z"
        },
        "cell_id": "563a199a0d9b46d489cf5a1444c5c931",
        "deepnote_cell_type": "code"
      },
      "source": "\"\"\"\n# Function to calculate Basal Metabolic Rate\ndef calculate_bmr(row):\n    height_cm = row['Height'] * 100  # Convert height from meters to centimeters\n    if row['Gender'] == 'Male':\n        bmr = 66.47 + (13.75 * row['Weight']) + (5.003 * height_cm) - (6.755 * row['Age'])\n    else:  # Female\n        bmr = 655.1 + (9.563 * row['Weight']) + (1.850 * height_cm) - (4.676 * row['Age'])\n    return bmr\n\n# Applying the function to create a new column 'BMR'\ntrain['BMR'] = df.apply(calculate_bmr, axis=1)\ntest['BMR'] = df.apply(calculate_bmr, axis=1)\n\n# Function to calculate IBW using the Devine Formula (height in meters)\ndef calculate_ibw(row):\n    height_cm = row['Height'] * 100  # Convert height from meters to centimeters\n    if row['Gender'] == 'Male':\n        ibw = 50 + 2.3 * ((height_cm - 152.4) / 2.54)\n    else:  # Female\n        ibw = 45.5 + 2.3 * ((height_cm - 152.4) / 2.54)\n    return ibw\n\n# Apply the function to create the 'IBW' column\ntrain['IBW'] = train.apply(calculate_ibw, axis=1)\n\n# TDEE Calculation Function\ndef calculate_tdee(row):\n    bmr = calculate_bmr(row)\n    activity_levels = {\n        'Sedentary': 1.2,\n        'Lightly_active': 1.375,\n        'Moderately_active': 1.55,\n        'Very_active': 1.725,\n        'Extra_active': 1.9\n    }\n    return bmr * activity_levels[row['Activity_Level']]\n\"\"\"",
      "block_group": "27fb4bd2ecff4462b9878f252d1e30ef",
      "execution_count": null,
      "outputs": [],
      "outputs_reference": null,
      "content_dependencies": null
    },
    {
      "cell_type": "code",
      "metadata": {
        "trusted": true,
        "execution": {
          "iopub.status.busy": "2024-02-05T14:12:13.818939Z",
          "iopub.status.idle": "2024-02-05T14:12:13.830982Z",
          "iopub.execute_input": "2024-02-05T14:12:13.819349Z",
          "shell.execute_reply": "2024-02-05T14:12:13.829273Z",
          "shell.execute_reply.started": "2024-02-05T14:12:13.819319Z"
        },
        "cell_id": "3a240c37208346baaf6e8a46f8df2be2",
        "deepnote_cell_type": "code"
      },
      "source": "# Save the 'NObeyesdad' column as 'y_train'\ny_train = train['NObeyesdad']\n\n# Drop the 'id' and 'NObeyesdad' columns from the DataFrame to create X_train\nX_train = train.drop(['id', 'NObeyesdad'], axis=1)",
      "block_group": "255d6f37522043a5b7d29b53e0b7f098",
      "execution_count": null,
      "outputs": [],
      "outputs_reference": null,
      "content_dependencies": null
    },
    {
      "cell_type": "code",
      "metadata": {
        "trusted": true,
        "execution": {
          "iopub.status.busy": "2024-02-05T19:25:38.671597Z",
          "iopub.status.idle": "2024-02-05T19:25:38.686632Z",
          "iopub.execute_input": "2024-02-05T19:25:38.672138Z",
          "shell.execute_reply": "2024-02-05T19:25:38.685279Z",
          "shell.execute_reply.started": "2024-02-05T19:25:38.672097Z"
        },
        "cell_id": "8b5b0780f79441f0a818126ebaf36258",
        "deepnote_cell_type": "code"
      },
      "source": "# Split the data into training and validation sets (e.g., 90% train, 10% validation)\nX_train, X_val, y_train, y_val = train_test_split(X_train, y_train, test_size=0.1, random_state=0)",
      "block_group": "2b1242e373564c3fbec6365e877120ed",
      "execution_count": null,
      "outputs": [],
      "outputs_reference": null,
      "content_dependencies": null
    },
    {
      "cell_type": "code",
      "metadata": {
        "trusted": true,
        "execution": {
          "iopub.status.busy": "2024-02-05T19:27:35.048439Z",
          "iopub.status.idle": "2024-02-05T19:27:35.065021Z",
          "iopub.execute_input": "2024-02-05T19:27:35.048869Z",
          "shell.execute_reply": "2024-02-05T19:27:35.063525Z",
          "shell.execute_reply.started": "2024-02-05T19:27:35.048838Z"
        },
        "cell_id": "e6f17eeee4804004b2b095dfbb6de61d",
        "deepnote_cell_type": "code"
      },
      "source": "# Custom transformer to convert 'yes' and 'no' to 1 and 0\nclass BooleanToBinaryTransformer(BaseEstimator, TransformerMixin):\n    def fit(self, X, y=None):\n        return self\n\n    def transform(self, X):\n        return X.replace({'yes': 1, 'no': 0})\n\n# Define the columns you want to standardize, convert booleans, and one-hot encode\nnumerical_features = ['Age', 'Height', 'Weight', \"BMI\"]\nboolean_features = ['family_history_with_overweight', 'FAVC', 'SMOKE', 'SCC']\ncategorical_features = ['CAEC', 'CALC', 'MTRANS', \"Gender\"]\n\n# Create transformers for numerical, boolean, and categorical features\nnumerical_transformer = Pipeline([\n    ('scaler', StandardScaler())\n])\n\nboolean_transformer = Pipeline([\n    ('boolean_to_binary', BooleanToBinaryTransformer())\n])\n\ncategorical_transformer = Pipeline([\n    ('onehot', OneHotEncoder(handle_unknown='ignore'))\n])\n\n# Combine transformers into a single preprocessor object\npreprocessor = ColumnTransformer(\n    transformers=[\n        ('num', numerical_transformer, numerical_features),\n        ('bool', boolean_transformer, boolean_features),\n        ('cat', categorical_transformer, categorical_features)\n    ],\n    remainder='passthrough'  # Include remaining columns not specified in transformers\n)\n\n# Define base models\nbase_models = [\n    ('ada', AdaBoostClassifier(n_estimators=1000, random_state=0)),\n    ('xgb', XGBClassifier(n_estimators=100, random_state=0)),\n    ('svc', SVC(kernel='linear', probability=True, random_state=0))\n]\n\n# Define the meta-model\nmeta_model = RandomForestClassifier(n_estimators=1000, random_state=0)\n\n# Create the stacking classifier\nstacking_classifier = StackingClassifier(\n    estimators=base_models,\n    final_estimator=meta_model,\n    cv=10\n)\n\n# Create the full pipeline\npipeline = Pipeline([\n    ('preprocessor', preprocessor),\n    ('classifier', stacking_classifier)\n])",
      "block_group": "71e8455584094cd59333f0f748fe143e",
      "execution_count": null,
      "outputs": [],
      "outputs_reference": null,
      "content_dependencies": null
    },
    {
      "cell_type": "markdown",
      "metadata": {
        "cell_id": "12aa1aa953424e05944bfe34d10e0a5e",
        "deepnote_cell_type": "markdown"
      },
      "source": "# Modeling",
      "block_group": "264e30d7c7a44fb787b7e59cfcb26d39"
    },
    {
      "cell_type": "code",
      "metadata": {
        "trusted": true,
        "execution": {
          "iopub.status.busy": "2024-02-05T19:27:37.590841Z",
          "iopub.status.idle": "2024-02-05T19:28:43.270214Z",
          "iopub.execute_input": "2024-02-05T19:27:37.591233Z",
          "shell.execute_reply": "2024-02-05T19:28:43.269049Z",
          "shell.execute_reply.started": "2024-02-05T19:27:37.591204Z"
        },
        "cell_id": "06655af0539243d796686773d98997bf",
        "deepnote_cell_type": "code"
      },
      "source": "pipeline.fit(X_train, y_train)",
      "block_group": "3a3b46fd89784ca08b7528649bfc6325",
      "execution_count": null,
      "outputs": [],
      "outputs_reference": null,
      "content_dependencies": null
    },
    {
      "cell_type": "code",
      "metadata": {
        "trusted": true,
        "execution": {
          "iopub.status.busy": "2024-02-05T19:28:43.271935Z",
          "iopub.status.idle": "2024-02-05T19:28:44.547621Z",
          "iopub.execute_input": "2024-02-05T19:28:43.27229Z",
          "shell.execute_reply": "2024-02-05T19:28:44.545927Z",
          "shell.execute_reply.started": "2024-02-05T19:28:43.272261Z"
        },
        "cell_id": "caf54ac2f1d4498192bf5dc1c7753944",
        "deepnote_cell_type": "code"
      },
      "source": "# Make predictions on the training data\ntrain_predictions = pipeline.predict(X_train)\n\n# Generate a classification report for the training data\nclassification_report_train = classification_report(y_train, train_predictions)\n\nprint(\"Classification Report (Training Data):\\n\", classification_report_train)\n\nconfusion_matrix_train = confusion_matrix(y_train, train_predictions)\n\n# Create a heatmap for the confusion matrix\nplt.figure(figsize=(8, 6))\nsns.heatmap(confusion_matrix_train, annot=True, fmt='d', cmap='Blues', cbar=False)\nplt.title('Confusion Matrix (Training Data)')\nplt.xlabel('Predicted Labels')\nplt.ylabel('True Labels')\nplt.show()",
      "block_group": "91e675b23dbf4d92a657656c497fdd60",
      "execution_count": null,
      "outputs": [],
      "outputs_reference": null,
      "content_dependencies": null
    },
    {
      "cell_type": "markdown",
      "metadata": {
        "cell_id": "896d8f391d2a4a4f881b5808107bd2cc",
        "deepnote_cell_type": "markdown"
      },
      "source": "# Evaluation",
      "block_group": "af18de3695c844b2a7a5cd280674ea6c"
    },
    {
      "cell_type": "code",
      "metadata": {
        "trusted": true,
        "execution": {
          "iopub.status.busy": "2024-02-05T19:28:44.551616Z",
          "iopub.status.idle": "2024-02-05T19:28:45.18068Z",
          "iopub.execute_input": "2024-02-05T19:28:44.551986Z",
          "shell.execute_reply": "2024-02-05T19:28:45.179658Z",
          "shell.execute_reply.started": "2024-02-05T19:28:44.551957Z"
        },
        "cell_id": "bfd24ceb8aab45778cf59823f025e275",
        "deepnote_cell_type": "code"
      },
      "source": "# Make predictions on the training data\nval_predictions = pipeline.predict(X_val)\n\n# Assuming you have ground truth labels for the training data called 'y_train'\nclassification_report_val = classification_report(y_val, val_predictions)\n\nprint(\"Classification Report (Validation Data):\\n\", classification_report_val)\n\nconfusion_matrix_val = confusion_matrix(y_val, val_predictions)\n\n# Create a heatmap for the confusion matrix\nplt.figure(figsize=(8, 6))\nsns.heatmap(confusion_matrix_val, annot=True, fmt='d', cmap='Blues', cbar=False)\nplt.title('Confusion Matrix (Validation Data)')\nplt.xlabel('Predicted Labels')\nplt.ylabel('True Labels')\nplt.show()",
      "block_group": "a90cf54ae915441fab7300da3afd206d",
      "execution_count": null,
      "outputs": [],
      "outputs_reference": null,
      "content_dependencies": null
    },
    {
      "cell_type": "markdown",
      "metadata": {
        "cell_id": "ece415cddc4e4487b5b1ca027d4f8a2e",
        "deepnote_cell_type": "markdown"
      },
      "source": "# Hyperparameter-Tuning",
      "block_group": "53b68f9f0b774a59a7c712f65b356649"
    },
    {
      "cell_type": "code",
      "metadata": {
        "trusted": true,
        "cell_id": "6b092eb93bb8476dafba90bfa4b009e1",
        "deepnote_cell_type": "code"
      },
      "source": "\"\"\"\n# Parameter grid for random search\nparam_distributions = {\n    'classifier__final_estimator__n_estimators': randint(50, 200),\n    'classifier__final_estimator__max_depth': [None, 10, 20],\n    'classifier__final_estimator__min_samples_split': randint(2, 11)\n}\n\n# Set up RandomizedSearchCV\nrandom_search = RandomizedSearchCV(\n    pipeline, \n    param_distributions=param_distributions, \n    n_iter=3, \n    verbose=1,  \n    n_jobs=-1\n)\n\n# Fit RandomizedSearchCV to find the best parameters\nrandom_search.fit(X_train, y_train)\n\nprint(\"Best parameters found: \", random_search.best_params_)\n\"\"\"",
      "block_group": "0eb7c4f6b32544cf92ae55aa793df017",
      "execution_count": null,
      "outputs": [],
      "outputs_reference": null,
      "content_dependencies": null
    },
    {
      "cell_type": "code",
      "metadata": {
        "trusted": true,
        "execution": {
          "iopub.status.busy": "2024-02-05T18:47:18.02866Z",
          "iopub.status.idle": "2024-02-05T18:47:18.570253Z",
          "iopub.execute_input": "2024-02-05T18:47:18.029091Z",
          "shell.execute_reply": "2024-02-05T18:47:18.569053Z",
          "shell.execute_reply.started": "2024-02-05T18:47:18.02906Z"
        },
        "cell_id": "86b4b896fc5b474b89562cda17617fc9",
        "deepnote_cell_type": "code"
      },
      "source": "\"\"\"\n# Make predictions on the training data\nfine_tuning_predictions = random_search.predict(X_val)\n\n# Assuming you have ground truth labels for the training data called 'y_train'\nclassification_report_ft = classification_report(y_val, fine_tuning_predictions)\n\nprint(\"Classification Report (Validation Data):\\n\", classification_report_val)\n\nconfusion_matrix_ft = confusion_matrix(y_val, fine_tuning_predictions)\n\n# Create a heatmap for the confusion matrix\nplt.figure(figsize=(8, 6))\nsns.heatmap(confusion_matrix_ft, annot=True, fmt='d', cmap='Blues', cbar=False)\nplt.title('Confusion Matrix (Validation Data)')\nplt.xlabel('Predicted Labels')\nplt.ylabel('True Labels')\nplt.show()\n\"\"\"",
      "block_group": "dcadb26ee8c649d5b59bc49cec9b9525",
      "execution_count": null,
      "outputs": [],
      "outputs_reference": null,
      "content_dependencies": null
    },
    {
      "cell_type": "markdown",
      "metadata": {
        "formattedRanges": [],
        "cell_id": "f542901193854af18a2bcd7a4a20b960",
        "deepnote_cell_type": "text-cell-h1"
      },
      "source": "# Submission to Kaggle competition",
      "block_group": "1bbae387c8834772a005dba511f8c821"
    },
    {
      "cell_type": "code",
      "metadata": {
        "trusted": true,
        "execution": {
          "iopub.status.busy": "2024-02-05T18:35:53.500268Z",
          "iopub.status.idle": "2024-02-05T18:35:53.514772Z",
          "iopub.execute_input": "2024-02-05T18:35:53.503466Z",
          "shell.execute_reply": "2024-02-05T18:35:53.513091Z",
          "shell.execute_reply.started": "2024-02-05T18:35:53.50342Z"
        },
        "cell_id": "19278d88e1fb41949ebf241c636f9086",
        "deepnote_cell_type": "code"
      },
      "source": "test_ids = test['id']\n\n# Drop the 'id' and 'NObeyesdad' columns from the DataFrame to create X_train\nX_test = test.drop(['id'], axis=1)",
      "block_group": "93850136a50e4a6b8ffcdf7a6888ed5a",
      "execution_count": null,
      "outputs": [],
      "outputs_reference": null,
      "content_dependencies": null
    },
    {
      "cell_type": "code",
      "metadata": {
        "trusted": true,
        "execution": {
          "iopub.status.busy": "2024-02-05T18:35:53.779127Z",
          "iopub.status.idle": "2024-02-05T18:35:56.514112Z",
          "iopub.execute_input": "2024-02-05T18:35:53.779612Z",
          "shell.execute_reply": "2024-02-05T18:35:56.511526Z",
          "shell.execute_reply.started": "2024-02-05T18:35:53.779576Z"
        },
        "cell_id": "d0de6c240dd04fc586e8e190bfcd2564",
        "deepnote_cell_type": "code"
      },
      "source": "# Make predictions on the training data\ntest_predictions = pipeline.predict(X_test)",
      "block_group": "65e99006c6e148e397ac26886b4e4507",
      "execution_count": null,
      "outputs": [],
      "outputs_reference": null,
      "content_dependencies": null
    },
    {
      "cell_type": "code",
      "metadata": {
        "trusted": true,
        "execution": {
          "iopub.status.busy": "2024-02-05T18:35:56.517168Z",
          "iopub.status.idle": "2024-02-05T18:35:56.561436Z",
          "iopub.execute_input": "2024-02-05T18:35:56.517535Z",
          "shell.execute_reply": "2024-02-05T18:35:56.559662Z",
          "shell.execute_reply.started": "2024-02-05T18:35:56.517507Z"
        },
        "cell_id": "d7bdd17f9c6a45af9aed8070fb1194ef",
        "deepnote_cell_type": "code"
      },
      "source": "# Create a DataFrame for the submission\nsubmission_df = pd.DataFrame({'id': test_ids, 'Prediction': test_predictions})\n\n# Save the DataFrame to a CSV file\nsubmission_df.to_csv('submission.csv', index=False)",
      "block_group": "9925ded6ce2e448bb4048f799627c761",
      "execution_count": null,
      "outputs": [],
      "outputs_reference": null,
      "content_dependencies": null
    },
    {
      "cell_type": "markdown",
      "metadata": {
        "formattedRanges": [],
        "cell_id": "9b4b3d3280514185969a7b14bc30a123",
        "deepnote_cell_type": "text-cell-h1"
      },
      "source": "# From here analysis with synthetic data",
      "block_group": "f80c66fde4a34555b6b33e6b64aeb52f"
    },
    {
      "cell_type": "markdown",
      "source": "<a style='text-decoration:none;line-height:16px;display:flex;color:#5B5B62;padding:10px;justify-content:end;' href='https://deepnote.com?utm_source=created-in-deepnote-cell&projectId=a441f35e-4b4c-4c50-b56a-1aea6b800ed8' target=\"_blank\">\n<img alt='Created in deepnote.com' style='display:inline;max-height:16px;margin:0px;margin-right:7.5px;' src='data:image/svg+xml;base64,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' > </img>\nCreated in <span style='font-weight:600;margin-left:4px;'>Deepnote</span></a>",
      "metadata": {
        "created_in_deepnote_cell": true,
        "deepnote_cell_type": "markdown"
      }
    }
  ],
  "nbformat": 4,
  "nbformat_minor": 0,
  "metadata": {
    "deepnote_notebook_id": "2449839a6b5c465ea4c713c896d7ce8f"
  }
}